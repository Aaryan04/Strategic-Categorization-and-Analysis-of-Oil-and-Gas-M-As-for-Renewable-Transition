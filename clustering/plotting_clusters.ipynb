{
 "cells": [
  {
   "cell_type": "code",
   "execution_count": 1,
   "metadata": {},
   "outputs": [
    {
     "name": "stdout",
     "output_type": "stream",
     "text": [
      "  Core (Products) Core (Chemicals) Core (Support Activities) Core (Logistics)  \\\n",
      "0           Crude          plastic                production      warehousing   \n",
      "1           Shale    polypropylene               manufacture   transportation   \n",
      "2     Hydrocarbon     polyethylene                   produce          vehicle   \n",
      "3         Methane          polymer              construction        transport   \n",
      "4       Petroleum        propylene               distributor       automotive   \n",
      "\n",
      "  Core (Retail) Core (Processes) Core (Infrastructure)  \\\n",
      "0        retail         Refinery              Pipeline   \n",
      "1      retailer     Gasification              Oilfield   \n",
      "2   supermarket     Distillation              pipeline   \n",
      "3          shop         Cracking                  pipe   \n",
      "4      shopping           Coking                   rig   \n",
      "\n",
      "  Core (Energy & Utility Terms) Emerging (Renewables) Emerging (Bio-Energy)  \\\n",
      "0                    Combustion                 solar               biofuel   \n",
      "1                      Gasfired          photovoltaic              biofuels   \n",
      "2                        energy            solarbased            bioenergia   \n",
      "3                      electric            solarworld           biocatalyst   \n",
      "4                   electricity             solarpack            biological   \n",
      "\n",
      "  Emerging (Unrelated)  \n",
      "0          ridesharing  \n",
      "1                hotel  \n",
      "2              brewery  \n",
      "3            nutrition  \n",
      "4              telecom  \n"
     ]
    }
   ],
   "source": [
    "import pandas as pd\n",
    "import numpy as np\n",
    "\n",
    "file_path = '/Users/aaryanshah/Oncampus-Job/NLP_Gal/clustering/Updated_Clusters.csv'\n",
    "data = pd.read_csv(file_path)\n",
    "\n",
    "print(data.head())\n"
   ]
  },
  {
   "cell_type": "markdown",
   "metadata": {},
   "source": []
  },
  {
   "cell_type": "code",
   "execution_count": 2,
   "metadata": {},
   "outputs": [
    {
     "name": "stdout",
     "output_type": "stream",
     "text": [
      "Total words extracted: 671\n",
      "Unique labels (clusters): {'Emerging (Bio-Energy)', 'Core (Logistics)', 'Emerging (Unrelated)', 'Core (Energy & Utility Terms)', 'Core (Products)', 'Core (Processes)', 'Core (Infrastructure)', 'Core (Retail)', 'Core (Chemicals)', 'Emerging (Renewables)', 'Core (Support Activities)'}\n"
     ]
    }
   ],
   "source": [
    "\n",
    "words = []\n",
    "labels = []\n",
    "\n",
    "for column in data.columns:\n",
    "    words.extend(data[column].dropna().tolist())\n",
    "    labels.extend([column] * data[column].dropna().size)\n",
    "\n",
    "print(f\"Total words extracted: {len(words)}\")\n",
    "print(f\"Unique labels (clusters): {set(labels)}\")\n"
   ]
  },
  {
   "cell_type": "code",
   "execution_count": 3,
   "metadata": {},
   "outputs": [
    {
     "name": "stderr",
     "output_type": "stream",
     "text": [
      "/Users/aaryanshah/Library/Python/3.9/lib/python/site-packages/urllib3/__init__.py:34: NotOpenSSLWarning: urllib3 v2 only supports OpenSSL 1.1.1+, currently the 'ssl' module is compiled with 'LibreSSL 2.8.3'. See: https://github.com/urllib3/urllib3/issues/3020\n",
      "  warnings.warn(\n",
      "/Users/aaryanshah/Library/Python/3.9/lib/python/site-packages/transformers/tokenization_utils_base.py:1601: FutureWarning: `clean_up_tokenization_spaces` was not set. It will be set to `True` by default. This behavior will be depracted in transformers v4.45, and will be then set to `False` by default. For more details check this issue: https://github.com/huggingface/transformers/issues/31884\n",
      "  warnings.warn(\n",
      "A parameter name that contains `beta` will be renamed internally to `bias`. Please use a different name to suppress this warning.\n",
      "A parameter name that contains `gamma` will be renamed internally to `weight`. Please use a different name to suppress this warning.\n",
      "A parameter name that contains `beta` will be renamed internally to `bias`. Please use a different name to suppress this warning.\n",
      "A parameter name that contains `gamma` will be renamed internally to `weight`. Please use a different name to suppress this warning.\n",
      "A parameter name that contains `beta` will be renamed internally to `bias`. Please use a different name to suppress this warning.\n",
      "A parameter name that contains `gamma` will be renamed internally to `weight`. Please use a different name to suppress this warning.\n",
      "A parameter name that contains `beta` will be renamed internally to `bias`. Please use a different name to suppress this warning.\n",
      "A parameter name that contains `gamma` will be renamed internally to `weight`. Please use a different name to suppress this warning.\n",
      "A parameter name that contains `beta` will be renamed internally to `bias`. Please use a different name to suppress this warning.\n",
      "A parameter name that contains `gamma` will be renamed internally to `weight`. Please use a different name to suppress this warning.\n",
      "A parameter name that contains `beta` will be renamed internally to `bias`. Please use a different name to suppress this warning.\n",
      "A parameter name that contains `gamma` will be renamed internally to `weight`. Please use a different name to suppress this warning.\n",
      "A parameter name that contains `beta` will be renamed internally to `bias`. Please use a different name to suppress this warning.\n",
      "A parameter name that contains `gamma` will be renamed internally to `weight`. Please use a different name to suppress this warning.\n",
      "A parameter name that contains `beta` will be renamed internally to `bias`. Please use a different name to suppress this warning.\n",
      "A parameter name that contains `gamma` will be renamed internally to `weight`. Please use a different name to suppress this warning.\n",
      "A parameter name that contains `beta` will be renamed internally to `bias`. Please use a different name to suppress this warning.\n",
      "A parameter name that contains `gamma` will be renamed internally to `weight`. Please use a different name to suppress this warning.\n",
      "A parameter name that contains `beta` will be renamed internally to `bias`. Please use a different name to suppress this warning.\n",
      "A parameter name that contains `gamma` will be renamed internally to `weight`. Please use a different name to suppress this warning.\n",
      "A parameter name that contains `beta` will be renamed internally to `bias`. Please use a different name to suppress this warning.\n",
      "A parameter name that contains `gamma` will be renamed internally to `weight`. Please use a different name to suppress this warning.\n",
      "A parameter name that contains `beta` will be renamed internally to `bias`. Please use a different name to suppress this warning.\n",
      "A parameter name that contains `gamma` will be renamed internally to `weight`. Please use a different name to suppress this warning.\n",
      "A parameter name that contains `beta` will be renamed internally to `bias`. Please use a different name to suppress this warning.\n",
      "A parameter name that contains `gamma` will be renamed internally to `weight`. Please use a different name to suppress this warning.\n",
      "A parameter name that contains `beta` will be renamed internally to `bias`. Please use a different name to suppress this warning.\n",
      "A parameter name that contains `gamma` will be renamed internally to `weight`. Please use a different name to suppress this warning.\n",
      "A parameter name that contains `beta` will be renamed internally to `bias`. Please use a different name to suppress this warning.\n",
      "A parameter name that contains `gamma` will be renamed internally to `weight`. Please use a different name to suppress this warning.\n",
      "A parameter name that contains `beta` will be renamed internally to `bias`. Please use a different name to suppress this warning.\n",
      "A parameter name that contains `gamma` will be renamed internally to `weight`. Please use a different name to suppress this warning.\n",
      "A parameter name that contains `beta` will be renamed internally to `bias`. Please use a different name to suppress this warning.\n",
      "A parameter name that contains `gamma` will be renamed internally to `weight`. Please use a different name to suppress this warning.\n",
      "A parameter name that contains `beta` will be renamed internally to `bias`. Please use a different name to suppress this warning.\n",
      "A parameter name that contains `gamma` will be renamed internally to `weight`. Please use a different name to suppress this warning.\n",
      "A parameter name that contains `beta` will be renamed internally to `bias`. Please use a different name to suppress this warning.\n",
      "A parameter name that contains `gamma` will be renamed internally to `weight`. Please use a different name to suppress this warning.\n",
      "A parameter name that contains `beta` will be renamed internally to `bias`. Please use a different name to suppress this warning.\n",
      "A parameter name that contains `gamma` will be renamed internally to `weight`. Please use a different name to suppress this warning.\n",
      "A parameter name that contains `beta` will be renamed internally to `bias`. Please use a different name to suppress this warning.\n",
      "A parameter name that contains `gamma` will be renamed internally to `weight`. Please use a different name to suppress this warning.\n",
      "A parameter name that contains `beta` will be renamed internally to `bias`. Please use a different name to suppress this warning.\n",
      "A parameter name that contains `gamma` will be renamed internally to `weight`. Please use a different name to suppress this warning.\n",
      "A parameter name that contains `beta` will be renamed internally to `bias`. Please use a different name to suppress this warning.\n",
      "A parameter name that contains `gamma` will be renamed internally to `weight`. Please use a different name to suppress this warning.\n",
      "A parameter name that contains `beta` will be renamed internally to `bias`. Please use a different name to suppress this warning.\n",
      "A parameter name that contains `gamma` will be renamed internally to `weight`. Please use a different name to suppress this warning.\n",
      "A parameter name that contains `beta` will be renamed internally to `bias`. Please use a different name to suppress this warning.\n",
      "A parameter name that contains `gamma` will be renamed internally to `weight`. Please use a different name to suppress this warning.\n",
      "A parameter name that contains `beta` will be renamed internally to `bias`. Please use a different name to suppress this warning.\n",
      "A parameter name that contains `gamma` will be renamed internally to `weight`. Please use a different name to suppress this warning.\n"
     ]
    },
    {
     "data": {
      "text/plain": [
       "(671, 768)"
      ]
     },
     "execution_count": 3,
     "metadata": {},
     "output_type": "execute_result"
    }
   ],
   "source": [
    "from transformers import BertModel, BertTokenizer\n",
    "import torch\n",
    "\n",
    "# Load pre-trained model tokenizer (vocabulary)\n",
    "tokenizer = BertTokenizer.from_pretrained('bert-base-uncased')\n",
    "\n",
    "# Load pre-trained model (weights)\n",
    "model = BertModel.from_pretrained('bert-base-uncased', output_hidden_states=True)\n",
    "model.eval()\n",
    "\n",
    "# Function to get BERT embeddings for a list of words\n",
    "def get_bert_embeddings(words):\n",
    "    marked_texts = [\"[CLS] \" + word + \" [SEP]\" for word in words]\n",
    "    tokenized_texts = [tokenizer.tokenize(text) for text in marked_texts]\n",
    "    indexed_tokens = [tokenizer.convert_tokens_to_ids(txt) for txt in tokenized_texts]\n",
    "    segments_ids = [[1] * len(txt) for txt in tokenized_texts]\n",
    "\n",
    "    # Convert inputs to PyTorch tensors\n",
    "    tokens_tensors = [torch.tensor([tokens]) for tokens in indexed_tokens]\n",
    "    segments_tensors = [torch.tensor([segments]) for segments in segments_ids]\n",
    "\n",
    "    # Predict hidden states features for each layer\n",
    "    embeddings = []\n",
    "    with torch.no_grad():\n",
    "        for i in range(len(tokens_tensors)):\n",
    "            outputs = model(tokens_tensors[i], segments_tensors[i])\n",
    "            hidden_states = outputs[2]\n",
    "            token_vecs = hidden_states[-2][0]  # Second to last layer\n",
    "            sentence_embedding = torch.mean(token_vecs, dim=0)\n",
    "            embeddings.append(sentence_embedding.numpy())\n",
    "\n",
    "    return np.array(embeddings)\n",
    "\n",
    "# Flatten the data frame to a list of words with their cluster labels\n",
    "words = []\n",
    "labels = []\n",
    "for column in data.columns:\n",
    "    clean_words = [word for word in data[column].dropna().tolist()]\n",
    "    words.extend(clean_words)\n",
    "    labels.extend([column] * len(clean_words))\n",
    "\n",
    "# Generate BERT embeddings\n",
    "word_embeddings = get_bert_embeddings(words)\n",
    "\n",
    "word_embeddings.shape  # Check the shape of the embeddings matrix\n"
   ]
  },
  {
   "cell_type": "code",
   "execution_count": 4,
   "metadata": {},
   "outputs": [
    {
     "data": {
      "image/png": "[encoded data removed]",
      "text/plain": [
       "<Figure size 1200x1000 with 1 Axes>"
      ]
     },
     "metadata": {},
     "output_type": "display_data"
    }
   ],
   "source": [
    "from sklearn.manifold import TSNE\n",
    "import matplotlib.pyplot as plt\n",
    "import numpy as np\n",
    "\n",
    "# Apply t-SNE to the embeddings\n",
    "tsne_model = TSNE(n_components=2, random_state=0, perplexity=30, n_iter=300)\n",
    "tsne_results = tsne_model.fit_transform(word_embeddings)\n",
    "\n",
    "# Prepare colors for each cluster\n",
    "unique_labels = list(set(labels))\n",
    "colors = plt.cm.rainbow(np.linspace(0, 1, len(unique_labels)))\n",
    "label_color_dict = dict(zip(unique_labels, colors))\n",
    "\n",
    "# Plotting\n",
    "plt.figure(figsize=(12, 10))\n",
    "for i, label in enumerate(labels):\n",
    "    plt.scatter(tsne_results[i, 0], tsne_results[i, 1], color=label_color_dict[label], label=label, alpha=0.5)\n",
    "\n",
    "# Create a legend\n",
    "handles, labels = plt.gca().get_legend_handles_labels()\n",
    "by_label = dict(zip(labels, handles))  # Removing duplicates in legend\n",
    "plt.legend(by_label.values(), by_label.keys())\n",
    "\n",
    "plt.title('Word Clusters using t-SNE')\n",
    "plt.xlabel('t-SNE Dimension 1')\n",
    "plt.ylabel('t-SNE Dimension 2')\n",
    "plt.show()\n"
   ]
  },
  {
   "cell_type": "code",
   "execution_count": 5,
   "metadata": {},
   "outputs": [
    {
     "data": {
      "application/vnd.plotly.v1+json": {
       "config": {
        "plotlyServerURL": "https://plot.ly"
       },
       "data": [
        {
         "marker": {
          "color": "#636EFA",
          "size": 5
         },
         "mode": "markers",
         "name": "Emerging (Bio-Energy)",
         "type": "scatter3d",
         "x": [
          4.9329376220703125,
          4.9358696937561035,
          4.257976531982422,
          4.719243049621582,
          -1.683296799659729,
          4.021118640899658,
          -0.94466233253479,
          6.3092122077941895,
          2.9572625160217285,
          2.7115118503570557,
          4.556818962097168,
          2.0339243412017822,
          -1.8680472373962402,
          3.401519536972046,
          1.0295476913452148,
          4.0535569190979,
          1.9893256425857544,
          3.9695277214050293,
          4.854796886444092,
          2.5583877563476562,
          3.8962454795837402,
          5.034593105316162,
          3.3625104427337646,
          0.6041187047958374,
          5.879410743713379,
          -3.7406070232391357,
          3.369814157485962,
          2.8292555809020996,
          4.002590179443359,
          3.343806743621826,
          6.201569557189941,
          3.6150405406951904,
          -0.47408297657966614,
          1.3511322736740112,
          0.009127587080001831,
          1.2767159938812256
         ],
         "y": [
          -2.1673460006713867,
          -2.544182538986206,
          -1.0321846008300781,
          -0.9499845504760742,
          -2.2132537364959717,
          -1.044641375541687,
          -1.2192323207855225,
          1.9276559352874756,
          -0.7443771958351135,
          -0.5700744390487671,
          -0.5207425951957703,
          0.3135760724544525,
          -0.6264550089836121,
          2.285979986190796,
          0.22135215997695923,
          1.0550848245620728,
          3.2094359397888184,
          -0.4170032739639282,
          0.14812347292900085,
          1.6602675914764404,
          -1.01161789894104,
          -0.1379183679819107,
          -3.322235584259033,
          -2.4009618759155273,
          -1.5995374917984009,
          0.34549251198768616,
          1.6086676120758057,
          -0.9796034693717957,
          2.759906053543091,
          0.9559625387191772,
          -1.3134549856185913,
          1.048872947692871,
          0.9822534322738647,
          -4.550996780395508,
          -2.00681471824646,
          -0.8066550493240356
         ],
         "z": [
          0.2714090645313263,
          0.3570442795753479,
          0.7895946502685547,
          1.77538001537323,
          2.591444492340088,
          0.3220902383327484,
          1.212571620941162,
          2.473565101623535,
          0.5439879298210144,
          1.7701246738433838,
          0.13196513056755066,
          -1.2610841989517212,
          1.431661605834961,
          -2.243009328842163,
          0.28097113966941833,
          -0.9784055948257446,
          -1.342103362083435,
          -0.8519238233566284,
          -0.04702462628483772,
          -0.6622916460037231,
          0.5661168098449707,
          -0.28458666801452637,
          0.3450157940387726,
          0.15474668145179749,
          0.44186171889305115,
          2.691950798034668,
          -0.6220309734344482,
          1.259889841079712,
          0.19446229934692383,
          -1.2565324306488037,
          0.3359232246875763,
          -0.005674120504409075,
          -0.9016521573066711,
          0.7136396169662476,
          0.8543479442596436,
          0.7195435166358948
         ]
        },
        {
         "marker": {
          "color": "#EF553B",
          "size": 5
         },
         "mode": "markers",
         "name": "Core (Logistics)",
         "type": "scatter3d",
         "x": [
          1.7666521072387695,
          -0.38398465514183044,
          -1.441035509109497,
          -0.7548790574073792,
          0.5671840310096741,
          -3.000532865524292,
          -0.50699782371521,
          -0.9627420902252197,
          -0.7087571620941162,
          -0.8666946291923523,
          -2.514080762863159,
          -2.1091935634613037,
          -2.439429998397827,
          1.1274418830871582,
          -4.197144985198975,
          0.995438277721405,
          -2.046660900115967,
          1.7167798280715942,
          -1.1925935745239258,
          -0.8474695086479187,
          -2.4418623447418213,
          -3.260801076889038,
          -3.0472185611724854,
          -3.2310948371887207,
          -1.263477087020874,
          0.2079295516014099,
          0.244966521859169,
          1.9515150785446167,
          -0.7926602959632874,
          -0.9723501205444336,
          -1.035129427909851,
          -0.4290996491909027,
          0.1817370057106018,
          -1.134220838546753,
          -1.2898486852645874,
          -1.6521037817001343,
          -1.5866953134536743,
          0.04716891422867775,
          -0.9097014665603638,
          -3.211160659790039,
          -2.3337020874023438,
          -2.465358257293701,
          -0.5114701986312866,
          -3.729976177215576,
          -1.4247052669525146,
          1.0427944660186768,
          -0.8426632881164551,
          -2.05244779586792,
          0.9311724901199341,
          -2.0454859733581543,
          0.8772096633911133,
          -0.7588312029838562,
          -2.2037243843078613,
          -0.6121537685394287,
          -2.5623703002929688,
          -1.8335464000701904,
          -0.22957178950309753,
          -4.141609191894531,
          -3.862295150756836,
          -1.794628620147705,
          -0.036883238703012466,
          -0.8059924840927124,
          -3.2024707794189453,
          0.06855682283639908,
          -2.2532007694244385,
          0.6233047842979431,
          -2.519956588745117,
          -2.338008403778076,
          -1.544951319694519,
          1.3525300025939941,
          -1.824946641921997,
          -1.8329806327819824,
          0.48940715193748474,
          1.5418338775634766,
          -2.731269598007202,
          -3.4322116374969482,
          -2.4286656379699707,
          0.8438673615455627,
          -0.25760045647621155,
          0.8667536377906799,
          -0.6756872534751892,
          -0.635779082775116,
          -0.7698535919189453,
          -1.1120558977127075,
          -0.6449223756790161,
          0.7537344694137573
         ],
         "y": [
          0.2878952622413635,
          -2.552874803543091,
          0.5234431624412537,
          -2.3490121364593506,
          -1.6099276542663574,
          1.8534438610076904,
          -2.0440165996551514,
          -0.37800776958465576,
          0.714013397693634,
          -1.6209367513656616,
          0.5004732012748718,
          0.5718336701393127,
          2.512525796890259,
          -3.052464246749878,
          0.27603012323379517,
          -1.0610963106155396,
          -0.7270031571388245,
          -1.0563915967941284,
          -0.15902414917945862,
          -1.878153681755066,
          -0.4536067843437195,
          0.982975423336029,
          1.2742317914962769,
          0.9312012791633606,
          1.9250651597976685,
          -0.13758648931980133,
          -2.824977397918701,
          -1.0043973922729492,
          0.8049863576889038,
          -0.6799728870391846,
          -1.3971279859542847,
          -1.0267139673233032,
          -4.503828048706055,
          -2.7771847248077393,
          -1.3480526208877563,
          0.07785923033952713,
          -0.8837072849273682,
          -1.020806908607483,
          -0.9785782694816589,
          1.1113358736038208,
          -1.0710850954055786,
          1.058809518814087,
          1.1765542030334473,
          1.4129513502120972,
          0.8387284874916077,
          -1.7888009548187256,
          -0.7630270719528198,
          -0.16422240436077118,
          -0.8578619360923767,
          0.3243860900402069,
          -3.554879665374756,
          -0.9467242956161499,
          -0.9999058842658997,
          -0.7074873447418213,
          0.47925496101379395,
          -1.4030702114105225,
          -1.0867631435394287,
          1.2702840566635132,
          1.1733185052871704,
          -0.9433035850524902,
          -2.6908533573150635,
          -1.2692323923110962,
          1.6961697340011597,
          -3.027365207672119,
          0.414449542760849,
          -1.171128511428833,
          0.2890544533729553,
          2.072587728500366,
          -1.0429019927978516,
          1.0624940395355225,
          0.48324260115623474,
          1.4037668704986572,
          -0.8650656938552856,
          -2.162879467010498,
          -0.0547063872218132,
          2.1039798259735107,
          0.6743004322052002,
          -3.0353198051452637,
          -0.2423429787158966,
          -1.762747049331665,
          -1.6191116571426392,
          -1.476486086845398,
          -1.0513101816177368,
          -0.6165739893913269,
          -0.33476388454437256,
          -1.1923327445983887
         ],
         "z": [
          -0.3688966631889343,
          -1.5609837770462036,
          -1.9968304634094238,
          -1.1137685775756836,
          -1.527597427368164,
          0.349951833486557,
          -0.9411961436271667,
          -1.5986064672470093,
          -2.7765443325042725,
          -0.8718942999839783,
          -0.22143904864788055,
          0.7845912575721741,
          -0.5541825294494629,
          -2.5105717182159424,
          2.1797900199890137,
          -1.6944352388381958,
          -0.23867197334766388,
          -2.3497631549835205,
          -0.041261203587055206,
          -0.280685156583786,
          0.20782087743282318,
          1.0577952861785889,
          0.029783857986330986,
          0.8723567724227905,
          -2.330906867980957,
          -0.5035929679870605,
          -1.5781830549240112,
          -1.683309555053711,
          -2.0274899005889893,
          -0.8479461669921875,
          0.015629371628165245,
          -1.0572978258132935,
          0.37140780687332153,
          0.09838269650936127,
          0.07177107036113739,
          -0.41167694330215454,
          -1.2605286836624146,
          -1.0730010271072388,
          -1.7484967708587646,
          -0.09557043015956879,
          0.08871201425790787,
          0.7223642468452454,
          -1.228506326675415,
          0.8821573853492737,
          -1.7695341110229492,
          0.08004002273082733,
          -2.112391233444214,
          0.1265043318271637,
          -1.7815300226211548,
          -1.6691632270812988,
          -2.0562705993652344,
          -1.4647459983825684,
          1.1645722389221191,
          -2.3793692588806152,
          -0.1653701364994049,
          -0.03100435808300972,
          -1.1529347896575928,
          2.1525964736938477,
          1.881766438484192,
          -0.6248103380203247,
          -0.8934119343757629,
          -0.9018775820732117,
          0.9407137632369995,
          -1.0112873315811157,
          0.10433147102594376,
          -3.321739912033081,
          0.6143829822540283,
          -0.04323369637131691,
          1.2210001945495605,
          -2.239201784133911,
          -0.020395899191498756,
          -1.0120503902435303,
          -1.5910708904266357,
          -1.8563382625579834,
          -0.5213091969490051,
          0.08337104320526123,
          0.08017736673355103,
          -2.7149884700775146,
          -2.7193589210510254,
          -1.9081772565841675,
          -1.8126301765441895,
          -1.7891778945922852,
          0.18544597923755646,
          -1.0847671031951904,
          -2.096149206161499,
          -2.222186326980591
         ]
        },
        {
         "marker": {
          "color": "#00CC96",
          "size": 5
         },
         "mode": "markers",
         "name": "Emerging (Unrelated)",
         "type": "scatter3d",
         "x": [
          1.525994896888733,
          -0.9614872932434082,
          -0.5015751123428345,
          0.3377223610877991,
          -0.4234103560447693,
          3.402831554412842,
          -1.3945603370666504,
          -2.165483236312866,
          -1.5544382333755493,
          -2.1592776775360107,
          2.3304452896118164,
          -0.8818843960762024,
          -1.9440659284591675,
          -2.750826358795166,
          -3.575793504714966,
          -1.1446515321731567
         ],
         "y": [
          0.7631252408027649,
          0.21183204650878906,
          -0.8319558501243591,
          -0.9145107269287109,
          -0.8783584833145142,
          -1.1102656126022339,
          -0.7179660201072693,
          0.572587251663208,
          0.31389927864074707,
          0.16039606928825378,
          -0.9916470646858215,
          -0.9449903964996338,
          -2.6372554302215576,
          1.2281498908996582,
          -0.567672073841095,
          2.583968162536621
         ],
         "z": [
          -1.570662260055542,
          -2.3894264698028564,
          -1.040407657623291,
          -0.3908170163631439,
          -0.735862672328949,
          -1.2575862407684326,
          -0.6796683669090271,
          -0.1532152146100998,
          -0.13776369392871857,
          -0.8275336027145386,
          -1.6996616125106812,
          0.18009676039218903,
          1.427018165588379,
          -0.5382024049758911,
          1.3370461463928223,
          -1.736892819404602
         ]
        },
        {
         "marker": {
          "color": "#AB63FA",
          "size": 5
         },
         "mode": "markers",
         "name": "Core (Energy & Utility Terms)",
         "type": "scatter3d",
         "x": [
          -3.1203482151031494,
          0.588958203792572,
          -1.4381219148635864,
          0.5552495718002319,
          0.8252393007278442,
          -1.2024450302124023,
          -1.244970679283142,
          -0.41574063897132874,
          -1.284534215927124,
          -2.565683126449585,
          3.621183156967163,
          3.3951289653778076,
          -0.21878482401371002,
          0.8362323641777039,
          -2.0517232418060303,
          3.5363168716430664,
          2.529218912124634,
          3.871351718902588,
          -0.7935788631439209,
          -2.753243923187256,
          -2.1480047702789307,
          -2.193204641342163,
          -2.787945032119751,
          -0.6373829245567322,
          -1.62217116355896,
          -3.3632912635803223,
          -1.0561739206314087,
          -2.718493938446045,
          1.4748653173446655,
          -3.206235408782959,
          -3.1660900115966797,
          -3.5008046627044678,
          -1.929456114768982,
          2.1766180992126465,
          -1.5067344903945923,
          3.866840362548828,
          0.19911803305149078,
          2.6456806659698486,
          0.37439844012260437,
          1.2340173721313477,
          -2.5340938568115234,
          -0.5557769536972046,
          -3.389503002166748,
          -1.795302391052246,
          -0.0814034566283226
         ],
         "y": [
          0.31853148341178894,
          3.5092074871063232,
          1.0549137592315674,
          -0.4573066830635071,
          -2.8377737998962402,
          0.056488100439310074,
          -0.9190973043441772,
          -0.7594047784805298,
          0.12328275293111801,
          0.8124884366989136,
          -3.3080523014068604,
          -0.6429363489151001,
          -1.9259710311889648,
          -1.9910542964935303,
          -0.6411533951759338,
          1.8154327869415283,
          0.7245452404022217,
          -0.10683859884738922,
          -1.5557048320770264,
          0.00002541238791309297,
          0.4281330108642578,
          0.3700263798236847,
          0.9216731786727905,
          -1.7193405628204346,
          0.05040482431650162,
          0.9628968834877014,
          0.10313349962234497,
          0.31983137130737305,
          -0.27537232637405396,
          2.2892887592315674,
          0.9084540605545044,
          0.9335745573043823,
          1.3007231950759888,
          -1.6318243741989136,
          0.9240216612815857,
          0.41457366943359375,
          0.20272153615951538,
          -0.9137115478515625,
          -1.1398231983184814,
          0.508059561252594,
          1.141799807548523,
          -1.2188613414764404,
          0.366862416267395,
          -0.3204869031906128,
          -0.1872330754995346
         ],
         "z": [
          1.869900107383728,
          -2.2897791862487793,
          -0.6338009238243103,
          -1.0021991729736328,
          -1.555734634399414,
          -0.9593226909637451,
          0.5121687054634094,
          -1.3908016681671143,
          -0.43639254570007324,
          1.0476429462432861,
          -1.4732377529144287,
          0.39259445667266846,
          -0.29490604996681213,
          -1.902673602104187,
          0.658171534538269,
          -2.1190683841705322,
          -0.5172337293624878,
          -0.35296759009361267,
          -0.6349942684173584,
          1.4971072673797607,
          1.0029006004333496,
          -0.05780606344342232,
          -0.43240341544151306,
          0.056816600263118744,
          0.9868726134300232,
          1.4348387718200684,
          0.6861870884895325,
          1.8465622663497925,
          0.5943143963813782,
          -0.1358640342950821,
          0.8025239109992981,
          1.8538094758987427,
          -2.1948158740997314,
          -2.3563826084136963,
          -0.1605847030878067,
          -0.3072189688682556,
          -0.27523332834243774,
          -2.8325650691986084,
          -1.57847261428833,
          -1.6043742895126343,
          1.6420592069625854,
          0.29201409220695496,
          2.0161798000335693,
          0.48419755697250366,
          -1.4720276594161987
         ]
        },
        {
         "marker": {
          "color": "#FFA15A",
          "size": 5
         },
         "mode": "markers",
         "name": "Core (Products)",
         "type": "scatter3d",
         "x": [
          -1.5772355794906616,
          0.6419662833213806,
          3.5437328815460205,
          0.19952638447284698,
          0.45723387598991394,
          -1.1801937818527222,
          -0.14323022961616516,
          0.5944892168045044,
          0.017035188153386116,
          -1.1938930749893188,
          4.759238243103027,
          -1.3550692796707153,
          -1.0428053140640259,
          4.1291046142578125,
          -0.20980337262153625,
          -0.8860397934913635,
          -3.393446922302246,
          4.7158074378967285,
          5.077421188354492,
          1.3070424795150757,
          0.2018725574016571,
          -0.6980657577514648,
          -1.8058521747589111,
          5.222412586212158,
          -0.5784578323364258,
          -1.2079325914382935,
          -2.419435739517212,
          0.29374003410339355,
          -0.6269590854644775,
          -0.5226808190345764,
          -1.2665003538131714,
          1.0877665281295776,
          3.2373790740966797,
          1.8257646560668945,
          2.5435564517974854,
          1.8882436752319336,
          1.6441693305969238,
          1.3276755809783936,
          1.9088160991668701,
          -4.532476902008057,
          2.111389636993408,
          3.0309739112854004,
          -1.1126822233200073,
          -1.6271518468856812,
          0.6238753199577332,
          -1.4344433546066284,
          -0.5879952907562256,
          -2.689607620239258,
          1.7683401107788086,
          -0.08773212879896164,
          3.390343427658081,
          -1.5172818899154663,
          6.396782398223877,
          -2.693679094314575,
          -2.442718744277954,
          1.0167582035064697,
          -0.6442887783050537,
          2.8593568801879883,
          5.181145191192627,
          -0.8713143467903137,
          1.6302313804626465,
          1.3769053220748901,
          -1.4323949813842773,
          1.8039847612380981,
          3.061037063598633,
          0.05307484045624733,
          -1.8466898202896118,
          -0.940947413444519,
          -0.491272896528244,
          0.30953964591026306,
          2.9302313327789307,
          2.58205509185791,
          -2.525890827178955,
          0.3013066351413727
         ],
         "y": [
          0.9292195439338684,
          -1.1197600364685059,
          -1.4771647453308105,
          -0.9355505108833313,
          -0.9320794343948364,
          -0.10483153164386749,
          -0.8892515897750854,
          -0.31009045243263245,
          -1.2714837789535522,
          0.2111608237028122,
          -0.029380202293395996,
          -1.0139169692993164,
          0.6309043169021606,
          3.0123133659362793,
          -0.9313916563987732,
          0.9905269742012024,
          0.03853640332818031,
          1.2460899353027344,
          0.48102816939353943,
          0.20788267254829407,
          -1.5491689443588257,
          3.141150712966919,
          3.245879650115967,
          0.22583165764808655,
          3.8594741821289062,
          2.7412710189819336,
          0.030016940087080002,
          0.897001326084137,
          2.962867498397827,
          0.6969046592712402,
          -0.2732015550136566,
          -0.10058267414569855,
          1.0712915658950806,
          0.3748290538787842,
          0.06673244386911392,
          2.1773340702056885,
          1.9227285385131836,
          1.6303400993347168,
          0.18760254979133606,
          0.933765709400177,
          3.8255038261413574,
          2.7386176586151123,
          0.8814458250999451,
          2.7391905784606934,
          3.3172295093536377,
          0.711885929107666,
          1.0749422311782837,
          1.4646958112716675,
          2.583833694458008,
          2.5418756008148193,
          3.879849910736084,
          -0.36145418882369995,
          0.33399486541748047,
          0.34440475702285767,
          3.0091304779052734,
          2.854635238647461,
          -2.3497331142425537,
          3.4177560806274414,
          -0.35045960545539856,
          -1.267281413078308,
          -1.6774353981018066,
          2.6094322204589844,
          -2.282742500305176,
          0.8228000998497009,
          -0.04300278425216675,
          0.9482967853546143,
          -0.43496596813201904,
          1.1837509870529175,
          -0.7989909648895264,
          1.3510382175445557,
          0.47306105494499207,
          -1.7732923030853271,
          2.514706611633301,
          -1.2289386987686157
         ],
         "z": [
          0.061023812741041183,
          -0.45754480361938477,
          0.7564361691474915,
          1.105294108390808,
          -0.47628751397132874,
          0.8449221253395081,
          0.16388915479183197,
          -0.17809371650218964,
          -0.3458347022533417,
          0.7776157855987549,
          1.5140039920806885,
          1.1658217906951904,
          0.09251498430967331,
          1.7484960556030273,
          -1.1259102821350098,
          1.7673388719558716,
          1.919927716255188,
          1.54960298538208,
          3.088052272796631,
          -0.6819681525230408,
          -0.6838061809539795,
          -0.5451144576072693,
          0.44033119082450867,
          1.2843010425567627,
          -1.9593877792358398,
          -0.24725554883480072,
          0.6146537661552429,
          1.0556329488754272,
          -0.11702562868595123,
          -0.8539387583732605,
          -0.5816959142684937,
          -0.7348538041114807,
          1.4135822057724,
          -1.4871476888656616,
          -1.8424605131149292,
          -0.37746474146842957,
          -2.088221788406372,
          -1.1187361478805542,
          -1.9858659505844116,
          2.870706796646118,
          -1.4540493488311768,
          -3.0273139476776123,
          -1.2975653409957886,
          -0.20404654741287231,
          -1.755077838897705,
          0.6630600690841675,
          -1.461190104484558,
          0.40364742279052734,
          -2.3799116611480713,
          -1.6003657579421997,
          1.4694472551345825,
          -0.8720229864120483,
          2.7726783752441406,
          2.199883460998535,
          -0.041666433215141296,
          -1.3329931497573853,
          0.6565862894058228,
          0.4128916263580322,
          0.8053134083747864,
          0.8018433451652527,
          -1.5678197145462036,
          -1.1925060749053955,
          0.9915765523910522,
          -1.4874598979949951,
          -0.22636115550994873,
          0.1105518490076065,
          1.2440136671066284,
          -0.7724406123161316,
          -0.2326841652393341,
          0.6120048761367798,
          1.7724965810775757,
          -0.33327963948249817,
          1.066293716430664,
          -1.3026047945022583
         ]
        },
        {
         "marker": {
          "color": "#19D3F3",
          "size": 5
         },
         "mode": "markers",
         "name": "Core (Processes)",
         "type": "scatter3d",
         "x": [
          -1.8309876918792725,
          2.7251648902893066,
          4.181202411651611,
          -3.1052448749542236,
          -0.6980657577514648,
          -1.8364150524139404,
          1.0586622953414917,
          -0.7264910936355591,
          -0.6906576752662659,
          -3.1687891483306885,
          0.4259033799171448,
          -2.37709641456604,
          -2.6982181072235107,
          0.9776623249053955,
          0.11110628396272659,
          0.3952057957649231,
          -0.12136693298816681,
          -0.9089843034744263,
          2.9050776958465576,
          2.7627408504486084,
          -1.2541098594665527,
          -3.4086990356445312,
          -3.646456480026245,
          -3.235614538192749,
          -2.8779163360595703,
          -2.0945630073547363,
          -1.1142233610153198,
          2.5862717628479004,
          -1.2347819805145264,
          -3.1115198135375977,
          0.7822191119194031,
          -1.9537086486816406,
          -3.014998435974121,
          2.2183103561401367,
          4.628927230834961,
          5.9014081954956055,
          3.777989149093628,
          2.7397310733795166,
          2.7913990020751953,
          3.3332958221435547,
          3.6376328468322754,
          3.09063982963562,
          7.168987274169922,
          1.436657190322876,
          -0.7826747298240662,
          6.17235803604126,
          -0.08257729560136795,
          0.9940776824951172,
          0.47332438826560974,
          -0.5466539859771729,
          -2.7831435203552246,
          -2.077911138534546,
          -0.11286403983831406,
          -1.9390084743499756,
          -2.4646499156951904,
          -1.6815425157546997,
          -1.0747624635696411,
          0.04165610298514366,
          0.5508178472518921,
          -3.6165223121643066,
          2.4305028915405273,
          2.5213725566864014,
          -2.5065853595733643,
          -3.9341447353363037,
          -2.252176284790039,
          -2.1690776348114014,
          -0.9329684972763062,
          -2.154259443283081,
          -1.035932183265686,
          -3.0991976261138916,
          0.9341827034950256,
          2.017667055130005,
          0.324258416891098,
          -2.3100714683532715,
          0.0039003510028123856,
          -1.0880752801895142,
          0.18067176640033722
         ],
         "y": [
          -0.43512117862701416,
          -2.9224750995635986,
          -0.8103903532028198,
          2.0056772232055664,
          3.141150712966919,
          -0.023071913048624992,
          0.7919625043869019,
          -1.2336751222610474,
          -2.262075424194336,
          -0.09203098714351654,
          -2.577976942062378,
          0.2959011495113373,
          -0.7479647397994995,
          2.0430989265441895,
          -1.0584614276885986,
          0.8537566661834717,
          -0.12628673017024994,
          -0.31356704235076904,
          1.121572494506836,
          0.4960222840309143,
          -1.3995126485824585,
          0.2836519181728363,
          2.005678415298462,
          0.18590430915355682,
          1.2713475227355957,
          0.017859533429145813,
          -0.9916626811027527,
          1.6229336261749268,
          -1.435568928718567,
          3.252866268157959,
          1.8121885061264038,
          -0.9863725304603577,
          -2.2437968254089355,
          0.7890652418136597,
          0.980225145816803,
          0.37838855385780334,
          -4.816271781921387,
          -2.5007736682891846,
          -2.1980717182159424,
          -2.7984249591827393,
          0.3061069846153259,
          -0.6133667230606079,
          0.051315028220415115,
          -3.4593331813812256,
          4.775933265686035,
          0.14110444486141205,
          1.7980782985687256,
          -3.5549654960632324,
          -0.9844974875450134,
          -2.5947751998901367,
          1.1655269861221313,
          0.5993902683258057,
          -4.025644302368164,
          1.4476368427276611,
          1.0252500772476196,
          -3.4448370933532715,
          0.4374334514141083,
          -2.878465175628662,
          0.3355124890804291,
          2.6336121559143066,
          -1.4815800189971924,
          2.7513182163238525,
          1.2336652278900146,
          0.4459153115749359,
          1.9901529550552368,
          1.2347238063812256,
          0.61295485496521,
          0.8929567337036133,
          -0.9986500144004822,
          1.6878992319107056,
          -2.2939279079437256,
          0.0828389823436737,
          -2.273581027984619,
          -2.372696876525879,
          -1.8157131671905518,
          -1.3155443668365479,
          -0.6531900763511658
         ],
         "z": [
          0.8043268918991089,
          -0.5716992020606995,
          0.5429125428199768,
          1.4576510190963745,
          -0.5451144576072693,
          0.327685683965683,
          -1.177567958831787,
          -0.6381350755691528,
          -0.85187166929245,
          2.294785976409912,
          -1.045052170753479,
          1.0201762914657593,
          0.7094862461090088,
          -1.3206405639648438,
          -1.3544355630874634,
          1.0452370643615723,
          -1.7702834606170654,
          0.9175602197647095,
          -0.3175150156021118,
          -0.6411153078079224,
          1.1892942190170288,
          2.1020255088806152,
          1.565783977508545,
          2.5065884590148926,
          1.2859210968017578,
          0.02976144291460514,
          0.0928708165884018,
          -0.49706095457077026,
          0.05162929743528366,
          0.31319740414619446,
          -1.8796995878219604,
          1.362766146659851,
          3.1958203315734863,
          -2.8980841636657715,
          4.61237907409668,
          2.7752339839935303,
          0.10701926797628403,
          -0.5286019444465637,
          -0.9596593976020813,
          0.6081516742706299,
          -1.906187653541565,
          -0.2386992871761322,
          2.2224273681640625,
          -0.5526278018951416,
          -1.4809026718139648,
          2.7346925735473633,
          -1.2856981754302979,
          -1.0934903621673584,
          -1.017167329788208,
          -0.21228210628032684,
          1.7628644704818726,
          -0.3588331341743469,
          0.2512147128582001,
          0.12681680917739868,
          0.8797805309295654,
          2.343104839324951,
          -0.8519519567489624,
          -0.009306121617555618,
          0.9141185879707336,
          1.0316193103790283,
          -0.4107118248939514,
          -1.069506287574768,
          1.1457672119140625,
          2.111626148223877,
          0.0161244198679924,
          0.06288958340883255,
          -0.9692805409431458,
          -0.719682514667511,
          0.19337455928325653,
          0.8405132293701172,
          -0.416978120803833,
          2.0885627269744873,
          1.74773371219635,
          1.715370535850525,
          -1.25481379032135,
          0.3595150411128998,
          -1.201069951057434
         ]
        },
        {
         "marker": {
          "color": "#FF6692",
          "size": 5
         },
         "mode": "markers",
         "name": "Core (Infrastructure)",
         "type": "scatter3d",
         "x": [
          -2.4845447540283203,
          1.8744014501571655,
          -2.4845447540283203,
          -1.9977974891662598,
          -4.100155353546143,
          0.8558582067489624,
          -1.8199201822280884,
          -1.3901402950286865,
          2.655777931213379,
          2.1654560565948486,
          0.09752179682254791,
          0.7325342893600464,
          0.17520970106124878,
          0.6866636276245117,
          0.14559143781661987,
          -0.9616419672966003,
          -0.25941818952560425,
          -1.6034858226776123,
          0.6099664568901062,
          -1.476438045501709,
          -1.9290447235107422,
          0.6085218191146851,
          -1.920261263847351,
          -4.003950595855713,
          2.4479942321777344,
          0.12973538041114807,
          -1.3078372478485107,
          -1.1946848630905151,
          -1.122595191001892,
          1.2798261642456055,
          -1.351994514465332,
          -2.362684726715088,
          -2.7975029945373535,
          -1.793615698814392,
          -3.214411735534668,
          0.974210798740387,
          -2.45367693901062,
          0.172633558511734,
          0.6964043974876404,
          1.5606811046600342,
          -0.3071075975894928,
          -1.06257164478302,
          -0.7796598672866821,
          0.1893451064825058,
          -2.9828078746795654,
          -0.6183481216430664,
          -2.4704036712646484
         ],
         "y": [
          -0.5237868428230286,
          -2.8401451110839844,
          -0.5237868428230286,
          1.2985563278198242,
          1.2076319456100464,
          -1.634493350982666,
          3.340121269226074,
          1.3939164876937866,
          -1.310312032699585,
          0.1207682341337204,
          2.371718168258667,
          3.177281618118286,
          0.44618889689445496,
          -0.3259851038455963,
          3.2949557304382324,
          2.651733875274658,
          1.9218531847000122,
          1.730984091758728,
          2.022418260574341,
          0.5188102722167969,
          -0.6194639801979065,
          -1.850501298904419,
          0.5227858424186707,
          2.572256565093994,
          0.8487682938575745,
          2.2660255432128906,
          -0.16864903271198273,
          -1.738357424736023,
          0.7028905749320984,
          0.5652890801429749,
          -0.6901061534881592,
          0.09882831573486328,
          0.6544610261917114,
          1.0082789659500122,
          1.9329370260238647,
          -0.9755591750144958,
          1.8141683340072632,
          2.590134859085083,
          1.5216765403747559,
          2.457019329071045,
          -0.4896228611469269,
          0.836253821849823,
          0.169334277510643,
          1.1814194917678833,
          1.2774499654769897,
          -2.049537420272827,
          1.860571026802063
         ],
         "z": [
          0.8733001947402954,
          -1.758457064628601,
          0.8733001947402954,
          -0.521786093711853,
          2.2486629486083984,
          -2.9464480876922607,
          -0.8001231551170349,
          0.24692030251026154,
          -2.391995429992676,
          -2.390375852584839,
          -1.3265870809555054,
          -1.3805861473083496,
          -1.8782148361206055,
          -2.3987536430358887,
          -2.358362913131714,
          -1.026909351348877,
          -2.481325149536133,
          -0.33799177408218384,
          -1.7452974319458008,
          -1.47219979763031,
          -0.6993552446365356,
          -0.5822614431381226,
          0.22716708481311798,
          1.7195595502853394,
          -1.6560322046279907,
          -1.2255741357803345,
          -0.8109285831451416,
          -1.0755492448806763,
          -1.0774120092391968,
          -2.01271653175354,
          -0.007281878963112831,
          1.1414947509765625,
          1.465356707572937,
          0.14500032365322113,
          0.3583098351955414,
          -1.8515669107437134,
          0.15501679480075836,
          -0.6142476797103882,
          -2.159604072570801,
          -2.511453866958618,
          -1.767675518989563,
          -1.0743207931518555,
          -0.5275244116783142,
          -1.1819603443145752,
          0.783022940158844,
          -0.33540812134742737,
          0.2581382691860199
         ]
        },
        {
         "marker": {
          "color": "#B6E880",
          "size": 5
         },
         "mode": "markers",
         "name": "Core (Retail)",
         "type": "scatter3d",
         "x": [
          0.007233730051666498,
          -1.1704773902893066,
          -1.6237518787384033,
          -1.6487737894058228,
          -1.2376242876052856,
          -2.8197319507598877,
          -0.12836943566799164,
          0.9494560956954956,
          -2.16385817527771,
          -1.391788363456726,
          1.4375553131103516,
          -0.7788006663322449,
          1.1571340560913086,
          -3.206881523132324,
          -0.6503564715385437,
          0.0010028872638940811,
          1.754372477531433,
          -2.0712220668792725
         ],
         "y": [
          -0.7901138663291931,
          -0.8786835670471191,
          -1.2771625518798828,
          0.5085757374763489,
          1.2030322551727295,
          -0.01492368709295988,
          -1.9895952939987183,
          -1.4910491704940796,
          0.09730768203735352,
          -1.057144045829773,
          -3.141347885131836,
          1.1845757961273193,
          -1.4836788177490234,
          1.6160587072372437,
          -2.242995262145996,
          -1.102095603942871,
          2.747075080871582,
          -0.537283182144165
         ],
         "z": [
          -2.024820566177368,
          -0.3404918313026428,
          0.3589100241661072,
          -0.7584065198898315,
          -0.7503989934921265,
          0.6555061340332031,
          -1.8092893362045288,
          -1.6027776002883911,
          0.21530799567699432,
          0.05326859652996063,
          -1.399575114250183,
          -1.8792991638183594,
          -0.7446100115776062,
          0.8778152465820312,
          0.9653729796409607,
          -0.057392869144678116,
          -2.430908679962158,
          -0.4285697042942047
         ]
        },
        {
         "marker": {
          "color": "#FF97FF",
          "size": 5
         },
         "mode": "markers",
         "name": "Core (Chemicals)",
         "type": "scatter3d",
         "x": [
          -3.2572007179260254,
          6.355177879333496,
          6.653532981872559,
          -1.611243486404419,
          4.955476760864258,
          6.5913310050964355,
          4.029896259307861,
          5.260875225067139,
          4.734170436859131,
          3.9608328342437744,
          5.513688087463379,
          6.813846111297607,
          6.8394551277160645,
          4.939211845397949,
          4.775553226470947,
          4.382365703582764,
          5.42481803894043,
          7.344422340393066,
          1.7599446773529053,
          2.3500988483428955,
          1.11990487575531,
          4.2502288818359375,
          -0.024875422939658165,
          6.113525390625,
          3.916147470474243,
          -2.2943639755249023,
          0.1928979903459549,
          4.320347785949707,
          5.6570820808410645,
          2.5678770542144775,
          -1.8744951486587524,
          -1.4964238405227661,
          4.205838203430176,
          3.6832594871520996,
          1.787474513053894,
          3.320936441421509,
          1.247525691986084,
          3.208008050918579,
          -1.585646152496338,
          -2.6116349697113037,
          5.132215976715088,
          4.4440016746521,
          -0.7526676654815674,
          6.7661261558532715,
          4.452859401702881,
          4.750823497772217,
          -3.3708276748657227,
          0.3266042172908783,
          -3.6415517330169678,
          5.557994842529297,
          5.6567535400390625,
          6.063038349151611,
          7.866730690002441,
          4.3593854904174805,
          3.8332128524780273,
          4.486536979675293,
          6.665675163269043,
          4.102828025817871,
          -0.2734902799129486,
          5.641938209533691,
          -0.2716110348701477,
          1.0129282474517822,
          2.3315415382385254,
          0.10010170191526413,
          5.856928825378418,
          4.393556118011475,
          3.5873217582702637,
          5.792232036590576,
          0.9695119261741638,
          -1.5628089904785156,
          -2.8515636920928955,
          -3.3760251998901367,
          -1.7212681770324707,
          3.9965200424194336,
          1.0385456085205078,
          6.00751256942749,
          2.156200885772705,
          -2.569214105606079,
          -2.3090262413024902,
          3.56269907951355,
          -0.5273261070251465,
          0.09388526529073715,
          2.1799581050872803,
          0.8216230273246765,
          2.739546060562134,
          5.536173343658447,
          0.7245715260505676,
          -0.2970689833164215,
          4.516974925994873
         ],
         "y": [
          0.6496866345405579,
          0.6180891990661621,
          1.4639753103256226,
          -0.44086575508117676,
          2.239926815032959,
          1.507788896560669,
          0.17732955515384674,
          1.4356541633605957,
          1.5547912120819092,
          2.8420000076293945,
          1.3668005466461182,
          -0.03974136337637901,
          1.6271966695785522,
          2.9829423427581787,
          1.6459004878997803,
          1.4729431867599487,
          1.5080931186676025,
          0.4914673864841461,
          2.039112091064453,
          3.214108943939209,
          4.871654510498047,
          1.1623468399047852,
          -1.160574197769165,
          -0.7357208132743835,
          -1.6588760614395142,
          0.3056008517742157,
          -0.6160428524017334,
          -1.992321491241455,
          1.4484442472457886,
          -1.7853330373764038,
          -0.9980014562606812,
          0.8928294777870178,
          -1.219594120979309,
          1.5720374584197998,
          2.046769142150879,
          3.884584426879883,
          0.7076777815818787,
          0.528971254825592,
          -1.128497838973999,
          1.7056738138198853,
          0.34035438299179077,
          -0.3276582956314087,
          2.2901101112365723,
          -0.04801899194717407,
          1.4223531484603882,
          -0.2778142988681793,
          0.7563062310218811,
          1.7246241569519043,
          0.9244252443313599,
          1.5785030126571655,
          1.8012398481369019,
          1.7497103214263916,
          1.1628618240356445,
          -2.7524144649505615,
          -2.239109754562378,
          1.8559008836746216,
          1.9605695009231567,
          1.7391358613967896,
          1.8005443811416626,
          -1.099623441696167,
          0.4157438278198242,
          -0.6349879503250122,
          1.8126288652420044,
          1.86079740524292,
          -0.8427457213401794,
          1.5942410230636597,
          -0.7170171141624451,
          0.27989813685417175,
          -0.9089124798774719,
          -1.875425934791565,
          -0.5493862628936768,
          1.4510563611984253,
          -0.11959599703550339,
          -1.0648548603057861,
          1.7313984632492065,
          0.9888710379600525,
          0.8403764367103577,
          1.7675036191940308,
          1.1961857080459595,
          2.3310482501983643,
          0.46176791191101074,
          -1.4154698848724365,
          -2.197140693664551,
          2.909266471862793,
          0.42001861333847046,
          -2.4018993377685547,
          -0.5261662006378174,
          -0.8083988428115845,
          -0.2633521854877472
         ],
         "z": [
          2.382890462875366,
          3.369882583618164,
          3.2542951107025146,
          1.950444221496582,
          2.303401231765747,
          2.3470616340637207,
          1.5805305242538452,
          2.343249559402466,
          4.5317206382751465,
          1.8915361166000366,
          2.5772864818573,
          2.7272167205810547,
          4.049074649810791,
          2.7500669956207275,
          2.0401124954223633,
          2.519580602645874,
          3.4552557468414307,
          3.8559658527374268,
          -0.08597154915332794,
          -2.616577386856079,
          -1.9661027193069458,
          -1.0090759992599487,
          0.9420328736305237,
          1.9783586263656616,
          0.35043221712112427,
          0.622065544128418,
          -0.4788992702960968,
          0.3773574233055115,
          3.4137094020843506,
          -0.5942783355712891,
          2.9285833835601807,
          1.0959984064102173,
          2.2612953186035156,
          1.962594985961914,
          -1.612524390220642,
          -0.05386820062994957,
          -0.15157321095466614,
          1.2687475681304932,
          0.3005162179470062,
          1.9542239904403687,
          1.2618509531021118,
          0.2465154379606247,
          -0.1821323186159134,
          3.160883665084839,
          1.6717036962509155,
          3.045720338821411,
          2.7087340354919434,
          1.1868000030517578,
          2.8514862060546875,
          3.12713885307312,
          2.2266454696655273,
          2.1906344890594482,
          4.28949499130249,
          -0.03785054385662079,
          -0.5081217288970947,
          0.8942220211029053,
          4.801240921020508,
          0.9502233862876892,
          -0.7120715379714966,
          1.2175559997558594,
          0.6007262468338013,
          1.653342843055725,
          -0.9524734616279602,
          -1.5551722049713135,
          1.820957899093628,
          0.5257996916770935,
          2.488938331604004,
          2.8543243408203125,
          -0.4753182828426361,
          3.2840821743011475,
          2.4521594047546387,
          2.1819803714752197,
          1.2039737701416016,
          1.4901752471923828,
          -0.09936599433422089,
          3.659459352493286,
          1.7481337785720825,
          0.8052889108657837,
          -0.1789444535970688,
          1.3670783042907715,
          0.7354155778884888,
          1.708107590675354,
          -0.1556345820426941,
          0.32252147793769836,
          -1.08355712890625,
          1.4161356687545776,
          -0.3804798722267151,
          1.120249629020691,
          0.9441982507705688
         ]
        },
        {
         "marker": {
          "color": "#FECB52",
          "size": 5
         },
         "mode": "markers",
         "name": "Emerging (Renewables)",
         "type": "scatter3d",
         "x": [
          -1.3642842769622803,
          4.883392333984375,
          2.040520191192627,
          0.7201719880104065,
          1.0242531299591064,
          2.0948526859283447,
          2.476300001144409,
          -2.226656436920166,
          0.7314700484275818,
          0.3659616708755493,
          -0.11956590414047241,
          -0.524154543876648,
          2.7453956604003906,
          -0.852961003780365,
          -0.46706175804138184,
          1.0990175008773804,
          -2.94693660736084,
          -1.1431310176849365,
          -0.200877845287323,
          2.4347829818725586,
          2.7627360820770264,
          2.1522765159606934,
          -1.8103622198104858,
          3.0106966495513916,
          2.4940292835235596,
          -3.1445493698120117,
          4.02419376373291,
          0.9375580549240112,
          1.394954800605774,
          -0.08513200283050537,
          -2.1359634399414062,
          1.0682647228240967,
          0.5363389253616333,
          0.34380725026130676,
          -1.5866025686264038,
          -2.3005354404449463,
          -2.7054269313812256,
          0.8849309682846069,
          1.0406484603881836,
          -1.1178765296936035,
          -1.4749679565429688,
          1.0535099506378174,
          -0.8229765295982361,
          0.13695788383483887,
          -0.9571417570114136
         ],
         "y": [
          1.3724071979522705,
          -2.0971763134002686,
          2.5153374671936035,
          1.9852930307388306,
          2.8445327281951904,
          3.1028804779052734,
          2.5024120807647705,
          0.43085041642189026,
          2.5637011528015137,
          3.186947822570801,
          -0.8701902031898499,
          -0.17200151085853577,
          -1.4245131015777588,
          -1.5545789003372192,
          -2.000213146209717,
          1.063927173614502,
          1.4576352834701538,
          -1.3660727739334106,
          -0.7781366109848022,
          1.5733318328857422,
          0.5280617475509644,
          -1.5793696641921997,
          -1.6662927865982056,
          0.6198360919952393,
          0.737939715385437,
          -0.9244949817657471,
          -0.5661253929138184,
          3.832228183746338,
          -1.6055588722229004,
          -1.2394776344299316,
          -2.5999057292938232,
          1.9004994630813599,
          1.027238368988037,
          0.016243252903223038,
          1.3678290843963623,
          -0.3427601456642151,
          2.153209924697876,
          0.4194687306880951,
          1.7137905359268188,
          -0.43032166361808777,
          -1.007893443107605,
          -1.986025333404541,
          -2.7884268760681152,
          -1.3471282720565796,
          -0.884951651096344
         ],
         "z": [
          -0.8337831497192383,
          0.6260489821434021,
          -1.9634356498718262,
          -2.4527034759521484,
          -2.396841526031494,
          -3.6808884143829346,
          -1.7609117031097412,
          0.45370543003082275,
          -2.3713934421539307,
          -2.5653841495513916,
          -1.1615369319915771,
          -0.516884446144104,
          -1.5416791439056396,
          1.2997366189956665,
          0.07925570011138916,
          -0.6924660801887512,
          0.5550834536552429,
          0.0005276648444123566,
          0.026391111314296722,
          -2.2045464515686035,
          -0.4368511438369751,
          -2.2179927825927734,
          1.633388638496399,
          -2.489112377166748,
          -1.3203043937683105,
          2.14963436126709,
          1.0822263956069946,
          -2.972013473510742,
          -2.9066765308380127,
          -0.17913375794887543,
          1.4235881567001343,
          -3.270909547805786,
          -1.2805263996124268,
          -1.4604182243347168,
          -0.4338001012802124,
          1.153153657913208,
          -0.632013201713562,
          -1.1948542594909668,
          -1.9063925743103027,
          -0.1617923527956009,
          1.3541882038116455,
          -1.3172067403793335,
          1.4337270259857178,
          -0.5229707360267639,
          0.40599995851516724
         ]
        },
        {
         "marker": {
          "color": "#636EFA",
          "size": 5
         },
         "mode": "markers",
         "name": "Core (Support Activities)",
         "type": "scatter3d",
         "x": [
          -0.558759868144989,
          -0.9590114951133728,
          -1.7243671417236328,
          -0.19143372774124146,
          -0.7294246554374695,
          -0.4631997346878052,
          -3.056427478790283,
          -1.2062087059020996,
          -2.241983413696289,
          -1.3431423902511597,
          -2.6903820037841797,
          -0.9995574355125427,
          -3.6401257514953613,
          -2.853614568710327,
          -3.4963037967681885,
          -0.9534004926681519,
          -1.4478964805603027,
          -0.8501667380332947,
          1.8724116086959839,
          -3.176266670227051,
          -3.056462526321411,
          -3.2527058124542236,
          -0.5955628752708435,
          -2.871422290802002,
          -3.216993808746338,
          -3.156505823135376,
          -1.4566751718521118,
          -1.6053873300552368,
          -3.1966044902801514,
          -1.9124644994735718,
          -2.0712220668792725,
          -2.7666897773742676,
          -1.7689719200134277,
          -1.2794017791748047,
          0.368142306804657,
          -0.8176060318946838,
          0.07435526698827744,
          -0.14255784451961517,
          -2.767612934112549,
          0.4889220595359802,
          -1.6899220943450928,
          -0.8663445711135864,
          -1.463704228401184,
          -1.6491996049880981,
          0.3676236867904663,
          -0.100401870906353,
          -1.9934580326080322,
          1.5079998970031738,
          -2.7243688106536865,
          -1.8210093975067139,
          -2.322930097579956,
          -2.6756160259246826,
          -3.6602296829223633,
          -1.2710556983947754,
          -3.342219114303589,
          -2.1175472736358643,
          -0.0557515025138855,
          1.8509052991867065,
          -3.456897735595703,
          -2.8977956771850586,
          -1.628904104232788,
          -0.552126944065094,
          -1.1244410276412964,
          -3.4191761016845703,
          1.1344621181488037,
          1.2034968137741089,
          1.277606725692749,
          -1.6520828008651733,
          -2.699913740158081,
          -1.5603114366531372,
          0.5279860496520996,
          -1.4979859590530396,
          -0.16730116307735443,
          -2.5914533138275146,
          -2.4478564262390137,
          -2.803868055343628,
          -2.572850227355957,
          -1.2070379257202148,
          -1.4859702587127686,
          -0.47739213705062866,
          -2.1363494396209717,
          -2.778613567352295,
          -2.8582754135131836,
          -3.2103047370910645,
          -2.743452310562134,
          -1.988369345664978,
          -0.22061197459697723,
          -1.7003259658813477,
          -0.7307841777801514,
          -4.143999099731445,
          -0.0011437628418207169,
          -3.6289968490600586,
          -1.9206063747406006,
          -1.9357340335845947,
          -1.9086023569107056,
          -1.582598090171814,
          -2.089205741882324,
          1.0242613554000854,
          2.0165367126464844,
          -2.7709412574768066,
          -2.9314608573913574,
          -1.086387038230896,
          -2.0048434734344482,
          -0.7545785903930664,
          -1.6134389638900757,
          -0.9249455332756042,
          2.6605236530303955,
          0.09416120499372482,
          -1.4243137836456299,
          -2.5162715911865234,
          -1.2795034646987915,
          1.8435243368148804,
          0.8741528391838074,
          -2.8362090587615967,
          -3.4725911617279053,
          -0.9371787309646606,
          -4.395097255706787,
          -1.781049132347107,
          -1.0116771459579468,
          -2.1813313961029053,
          0.40489858388900757,
          -1.4354970455169678,
          -2.0140397548675537,
          -2.0346035957336426,
          -1.0003870725631714,
          -0.3422476351261139,
          -1.8228890895843506,
          -2.24761962890625,
          -3.8562467098236084,
          1.7631056308746338,
          -0.540237545967102,
          -1.0458983182907104,
          -2.364569902420044,
          0.12563680112361908,
          -1.3114182949066162,
          -3.8468241691589355,
          -1.9409875869750977,
          -1.3315144777297974
         ],
         "y": [
          -2.652956247329712,
          -1.6543712615966797,
          -0.7574671506881714,
          -2.6092751026153564,
          -1.5669090747833252,
          -1.4538564682006836,
          -0.18110334873199463,
          -1.0545514822006226,
          -0.6667963862419128,
          -2.1938908100128174,
          0.2760818600654602,
          -0.28732919692993164,
          -0.2920685410499573,
          -0.5919093489646912,
          0.4194284677505493,
          -2.095517635345459,
          -0.22952286899089813,
          -1.7274121046066284,
          0.6052032709121704,
          -0.9223948121070862,
          -0.7402082085609436,
          0.66889888048172,
          -2.8100528717041016,
          -0.4907619059085846,
          0.6338079571723938,
          -0.45537593960762024,
          -0.3105679750442505,
          -0.8355836868286133,
          -0.3939274549484253,
          0.6933189034461975,
          -0.537283182144165,
          -0.9878769516944885,
          -0.41532814502716064,
          0.2664567530155182,
          -3.2925403118133545,
          -1.319887638092041,
          -1.4504640102386475,
          -2.715362071990967,
          -0.010358757339417934,
          -2.877051591873169,
          -1.0145052671432495,
          -1.1608210802078247,
          -2.196531295776367,
          -0.3846960961818695,
          -0.7247521877288818,
          -3.0798068046569824,
          -0.5414809584617615,
          -0.7589699029922485,
          0.005861877929419279,
          -1.551352858543396,
          1.8470189571380615,
          -0.20359331369400024,
          1.8516879081726074,
          0.939529299736023,
          1.423858404159546,
          -1.8549071550369263,
          -2.2836434841156006,
          0.5500242114067078,
          1.6099330186843872,
          0.7260909080505371,
          -0.7680478692054749,
          -3.2466135025024414,
          -3.5178334712982178,
          0.29952898621559143,
          -0.8544057607650757,
          3.3567686080932617,
          1.5564159154891968,
          0.5649159550666809,
          0.34218505024909973,
          -2.035205602645874,
          -1.1899058818817139,
          -1.078720211982727,
          -1.5167878866195679,
          0.8350380063056946,
          0.5478671193122864,
          0.761958122253418,
          1.000759243965149,
          -0.360592246055603,
          -0.14155471324920654,
          -4.130504131317139,
          -1.0623953342437744,
          -0.7301135063171387,
          -0.981465756893158,
          -0.7024199366569519,
          -1.4488577842712402,
          -0.9007446765899658,
          -2.692469596862793,
          -2.0271894931793213,
          -0.5777857303619385,
          0.23002730309963226,
          0.3644115626811981,
          0.06471364945173264,
          0.38695305585861206,
          -1.3201278448104858,
          -1.4758528470993042,
          0.5302423238754272,
          -0.6574115753173828,
          1.5312753915786743,
          -1.5970948934555054,
          -0.10776273906230927,
          -1.0293424129486084,
          -0.3074839413166046,
          0.735399603843689,
          -3.2123076915740967,
          0.4361419677734375,
          0.46281513571739197,
          -1.5703619718551636,
          2.8474478721618652,
          -0.1548582762479782,
          0.4857557415962219,
          -0.6863633990287781,
          1.6476500034332275,
          0.23567523062229156,
          -0.5638647675514221,
          1.0840189456939697,
          -1.1764943599700928,
          0.09040690213441849,
          1.030834436416626,
          1.2604115009307861,
          0.14181718230247498,
          -2.9844467639923096,
          -0.5907406806945801,
          0.28273817896842957,
          -0.36892884969711304,
          -0.39890822768211365,
          -0.6610692739486694,
          0.20384304225444794,
          -0.9904268383979797,
          1.1480731964111328,
          -1.9529763460159302,
          0.8887157440185547,
          -0.7326940298080444,
          -0.6342501640319824,
          0.5144022703170776,
          0.5452982187271118,
          2.627699375152588,
          0.243282288312912,
          -0.027745621278882027
         ],
         "z": [
          -1.221293330192566,
          0.44140899181365967,
          1.461448073387146,
          -2.0834062099456787,
          -0.3277636468410492,
          -0.8193309307098389,
          -0.12564121186733246,
          -1.3851755857467651,
          0.9339693188667297,
          -0.10071791708469391,
          0.5887176990509033,
          -0.7163675427436829,
          2.433084011077881,
          0.9327781200408936,
          2.061732769012451,
          0.8086076974868774,
          0.9022116661071777,
          -0.6132686734199524,
          0.15681570768356323,
          2.576467752456665,
          1.4632564783096313,
          2.2244067192077637,
          -1.5706924200057983,
          0.9650202989578247,
          1.6183968782424927,
          1.3914439678192139,
          0.9855114817619324,
          0.600494921207428,
          1.547433614730835,
          -0.656848669052124,
          -0.4285697042942047,
          0.7388705015182495,
          0.4657819867134094,
          -1.3948339223861694,
          -0.5328015089035034,
          0.7281054258346558,
          -1.2448879480361938,
          -0.6212117671966553,
          0.6119863986968994,
          -0.4758475124835968,
          -0.3934841752052307,
          0.09900713711977005,
          0.34917378425598145,
          0.10435570031404495,
          -0.6824489831924438,
          -1.3793209791183472,
          1.3612043857574463,
          0.025421440601348877,
          0.2531754672527313,
          0.05934066325426102,
          -0.1346316933631897,
          1.4677854776382446,
          1.7052638530731201,
          -0.9104200005531311,
          0.6703036427497864,
          -0.1780013144016266,
          -0.7189769744873047,
          -1.414512276649475,
          1.8582967519760132,
          2.457076072692871,
          -0.10302523523569107,
          0.9216084480285645,
          0.5873029232025146,
          2.487018585205078,
          -1.6276183128356934,
          -1.8008947372436523,
          -1.3539345264434814,
          -1.0137250423431396,
          1.186486840248108,
          -0.5563514828681946,
          -3.0056896209716797,
          -0.3056701421737671,
          -0.706287682056427,
          -0.37362971901893616,
          -0.9156713485717773,
          -0.005558311939239502,
          -0.19413022696971893,
          -1.3887016773223877,
          -0.3777569830417633,
          0.34440121054649353,
          0.2266373634338379,
          1.4493939876556396,
          1.6646111011505127,
          1.8280717134475708,
          1.645279884338379,
          0.8322324156761169,
          -0.6972395181655884,
          0.5416505336761475,
          -0.28787219524383545,
          1.9269660711288452,
          -1.1102073192596436,
          2.059875011444092,
          0.5568084120750427,
          0.8247895836830139,
          1.3343602418899536,
          -0.02203819528222084,
          1.060339331626892,
          -1.6909815073013306,
          0.5801767706871033,
          1.3973846435546875,
          1.2511838674545288,
          -2.0320470333099365,
          0.09692294895648956,
          -0.12593381106853485,
          -0.8164424300193787,
          0.009103823453187943,
          -2.1269149780273438,
          -1.9281892776489258,
          0.048119720071554184,
          0.08847376704216003,
          -0.6030358076095581,
          -2.5643692016601562,
          -1.42722749710083,
          1.7393230199813843,
          1.3829283714294434,
          0.18731115758419037,
          2.3640968799591064,
          -0.1292201578617096,
          0.519292414188385,
          0.4575749337673187,
          -0.6150546073913574,
          -0.1475762277841568,
          0.20083235204219818,
          0.20418041944503784,
          -1.5994083881378174,
          -0.6047703623771667,
          -2.017608165740967,
          0.1802881509065628,
          1.8966671228408813,
          -1.6673661470413208,
          -1.028551697731018,
          -1.4960744380950928,
          0.7750694155693054,
          -1.148725152015686,
          -0.8934617042541504,
          0.6685038805007935,
          -0.6249834299087524,
          -0.2376907616853714
         ]
        }
       ],
       "layout": {
        "legend": {
         "title": {
          "text": "Cluster"
         }
        },
        "margin": {
         "b": 0,
         "l": 0,
         "r": 0,
         "t": 30
        },
        "scene": {
         "xaxis": {
          "title": {
           "text": "PCA Dimension 1"
          }
         },
         "yaxis": {
          "title": {
           "text": "PCA Dimension 2"
          }
         },
         "zaxis": {
          "title": {
           "text": "PCA Dimension 3"
          }
         }
        },
        "template": {
         "data": {
          "bar": [
           {
            "error_x": {
             "color": "#2a3f5f"
            },
            "error_y": {
             "color": "#2a3f5f"
            },
            "marker": {
             "line": {
              "color": "#E5ECF6",
              "width": 0.5
             },
             "pattern": {
              "fillmode": "overlay",
              "size": 10,
              "solidity": 0.2
             }
            },
            "type": "bar"
           }
          ],
          "barpolar": [
           {
            "marker": {
             "line": {
              "color": "#E5ECF6",
              "width": 0.5
             },
             "pattern": {
              "fillmode": "overlay",
              "size": 10,
              "solidity": 0.2
             }
            },
            "type": "barpolar"
           }
          ],
          "carpet": [
           {
            "aaxis": {
             "endlinecolor": "#2a3f5f",
             "gridcolor": "white",
             "linecolor": "white",
             "minorgridcolor": "white",
             "startlinecolor": "#2a3f5f"
            },
            "baxis": {
             "endlinecolor": "#2a3f5f",
             "gridcolor": "white",
             "linecolor": "white",
             "minorgridcolor": "white",
             "startlinecolor": "#2a3f5f"
            },
            "type": "carpet"
           }
          ],
          "choropleth": [
           {
            "colorbar": {
             "outlinewidth": 0,
             "ticks": ""
            },
            "type": "choropleth"
           }
          ],
          "contour": [
           {
            "colorbar": {
             "outlinewidth": 0,
             "ticks": ""
            },
            "colorscale": [
             [
              0,
              "#0d0887"
             ],
             [
              0.1111111111111111,
              "#46039f"
             ],
             [
              0.2222222222222222,
              "#7201a8"
             ],
             [
              0.3333333333333333,
              "#9c179e"
             ],
             [
              0.4444444444444444,
              "#bd3786"
             ],
             [
              0.5555555555555556,
              "#d8576b"
             ],
             [
              0.6666666666666666,
              "#ed7953"
             ],
             [
              0.7777777777777778,
              "#fb9f3a"
             ],
             [
              0.8888888888888888,
              "#fdca26"
             ],
             [
              1,
              "#f0f921"
             ]
            ],
            "type": "contour"
           }
          ],
          "contourcarpet": [
           {
            "colorbar": {
             "outlinewidth": 0,
             "ticks": ""
            },
            "type": "contourcarpet"
           }
          ],
          "heatmap": [
           {
            "colorbar": {
             "outlinewidth": 0,
             "ticks": ""
            },
            "colorscale": [
             [
              0,
              "#0d0887"
             ],
             [
              0.1111111111111111,
              "#46039f"
             ],
             [
              0.2222222222222222,
              "#7201a8"
             ],
             [
              0.3333333333333333,
              "#9c179e"
             ],
             [
              0.4444444444444444,
              "#bd3786"
             ],
             [
              0.5555555555555556,
              "#d8576b"
             ],
             [
              0.6666666666666666,
              "#ed7953"
             ],
             [
              0.7777777777777778,
              "#fb9f3a"
             ],
             [
              0.8888888888888888,
              "#fdca26"
             ],
             [
              1,
              "#f0f921"
             ]
            ],
            "type": "heatmap"
           }
          ],
          "heatmapgl": [
           {
            "colorbar": {
             "outlinewidth": 0,
             "ticks": ""
            },
            "colorscale": [
             [
              0,
              "#0d0887"
             ],
             [
              0.1111111111111111,
              "#46039f"
             ],
             [
              0.2222222222222222,
              "#7201a8"
             ],
             [
              0.3333333333333333,
              "#9c179e"
             ],
             [
              0.4444444444444444,
              "#bd3786"
             ],
             [
              0.5555555555555556,
              "#d8576b"
             ],
             [
              0.6666666666666666,
              "#ed7953"
             ],
             [
              0.7777777777777778,
              "#fb9f3a"
             ],
             [
              0.8888888888888888,
              "#fdca26"
             ],
             [
              1,
              "#f0f921"
             ]
            ],
            "type": "heatmapgl"
           }
          ],
          "histogram": [
           {
            "marker": {
             "pattern": {
              "fillmode": "overlay",
              "size": 10,
              "solidity": 0.2
             }
            },
            "type": "histogram"
           }
          ],
          "histogram2d": [
           {
            "colorbar": {
             "outlinewidth": 0,
             "ticks": ""
            },
            "colorscale": [
             [
              0,
              "#0d0887"
             ],
             [
              0.1111111111111111,
              "#46039f"
             ],
             [
              0.2222222222222222,
              "#7201a8"
             ],
             [
              0.3333333333333333,
              "#9c179e"
             ],
             [
              0.4444444444444444,
              "#bd3786"
             ],
             [
              0.5555555555555556,
              "#d8576b"
             ],
             [
              0.6666666666666666,
              "#ed7953"
             ],
             [
              0.7777777777777778,
              "#fb9f3a"
             ],
             [
              0.8888888888888888,
              "#fdca26"
             ],
             [
              1,
              "#f0f921"
             ]
            ],
            "type": "histogram2d"
           }
          ],
          "histogram2dcontour": [
           {
            "colorbar": {
             "outlinewidth": 0,
             "ticks": ""
            },
            "colorscale": [
             [
              0,
              "#0d0887"
             ],
             [
              0.1111111111111111,
              "#46039f"
             ],
             [
              0.2222222222222222,
              "#7201a8"
             ],
             [
              0.3333333333333333,
              "#9c179e"
             ],
             [
              0.4444444444444444,
              "#bd3786"
             ],
             [
              0.5555555555555556,
              "#d8576b"
             ],
             [
              0.6666666666666666,
              "#ed7953"
             ],
             [
              0.7777777777777778,
              "#fb9f3a"
             ],
             [
              0.8888888888888888,
              "#fdca26"
             ],
             [
              1,
              "#f0f921"
             ]
            ],
            "type": "histogram2dcontour"
           }
          ],
          "mesh3d": [
           {
            "colorbar": {
             "outlinewidth": 0,
             "ticks": ""
            },
            "type": "mesh3d"
           }
          ],
          "parcoords": [
           {
            "line": {
             "colorbar": {
              "outlinewidth": 0,
              "ticks": ""
             }
            },
            "type": "parcoords"
           }
          ],
          "pie": [
           {
            "automargin": true,
            "type": "pie"
           }
          ],
          "scatter": [
           {
            "fillpattern": {
             "fillmode": "overlay",
             "size": 10,
             "solidity": 0.2
            },
            "type": "scatter"
           }
          ],
          "scatter3d": [
           {
            "line": {
             "colorbar": {
              "outlinewidth": 0,
              "ticks": ""
             }
            },
            "marker": {
             "colorbar": {
              "outlinewidth": 0,
              "ticks": ""
             }
            },
            "type": "scatter3d"
           }
          ],
          "scattercarpet": [
           {
            "marker": {
             "colorbar": {
              "outlinewidth": 0,
              "ticks": ""
             }
            },
            "type": "scattercarpet"
           }
          ],
          "scattergeo": [
           {
            "marker": {
             "colorbar": {
              "outlinewidth": 0,
              "ticks": ""
             }
            },
            "type": "scattergeo"
           }
          ],
          "scattergl": [
           {
            "marker": {
             "colorbar": {
              "outlinewidth": 0,
              "ticks": ""
             }
            },
            "type": "scattergl"
           }
          ],
          "scattermapbox": [
           {
            "marker": {
             "colorbar": {
              "outlinewidth": 0,
              "ticks": ""
             }
            },
            "type": "scattermapbox"
           }
          ],
          "scatterpolar": [
           {
            "marker": {
             "colorbar": {
              "outlinewidth": 0,
              "ticks": ""
             }
            },
            "type": "scatterpolar"
           }
          ],
          "scatterpolargl": [
           {
            "marker": {
             "colorbar": {
              "outlinewidth": 0,
              "ticks": ""
             }
            },
            "type": "scatterpolargl"
           }
          ],
          "scatterternary": [
           {
            "marker": {
             "colorbar": {
              "outlinewidth": 0,
              "ticks": ""
             }
            },
            "type": "scatterternary"
           }
          ],
          "surface": [
           {
            "colorbar": {
             "outlinewidth": 0,
             "ticks": ""
            },
            "colorscale": [
             [
              0,
              "#0d0887"
             ],
             [
              0.1111111111111111,
              "#46039f"
             ],
             [
              0.2222222222222222,
              "#7201a8"
             ],
             [
              0.3333333333333333,
              "#9c179e"
             ],
             [
              0.4444444444444444,
              "#bd3786"
             ],
             [
              0.5555555555555556,
              "#d8576b"
             ],
             [
              0.6666666666666666,
              "#ed7953"
             ],
             [
              0.7777777777777778,
              "#fb9f3a"
             ],
             [
              0.8888888888888888,
              "#fdca26"
             ],
             [
              1,
              "#f0f921"
             ]
            ],
            "type": "surface"
           }
          ],
          "table": [
           {
            "cells": {
             "fill": {
              "color": "#EBF0F8"
             },
             "line": {
              "color": "white"
             }
            },
            "header": {
             "fill": {
              "color": "#C8D4E3"
             },
             "line": {
              "color": "white"
             }
            },
            "type": "table"
           }
          ]
         },
         "layout": {
          "annotationdefaults": {
           "arrowcolor": "#2a3f5f",
           "arrowhead": 0,
           "arrowwidth": 1
          },
          "autotypenumbers": "strict",
          "coloraxis": {
           "colorbar": {
            "outlinewidth": 0,
            "ticks": ""
           }
          },
          "colorscale": {
           "diverging": [
            [
             0,
             "#8e0152"
            ],
            [
             0.1,
             "#c51b7d"
            ],
            [
             0.2,
             "#de77ae"
            ],
            [
             0.3,
             "#f1b6da"
            ],
            [
             0.4,
             "#fde0ef"
            ],
            [
             0.5,
             "#f7f7f7"
            ],
            [
             0.6,
             "#e6f5d0"
            ],
            [
             0.7,
             "#b8e186"
            ],
            [
             0.8,
             "#7fbc41"
            ],
            [
             0.9,
             "#4d9221"
            ],
            [
             1,
             "#276419"
            ]
           ],
           "sequential": [
            [
             0,
             "#0d0887"
            ],
            [
             0.1111111111111111,
             "#46039f"
            ],
            [
             0.2222222222222222,
             "#7201a8"
            ],
            [
             0.3333333333333333,
             "#9c179e"
            ],
            [
             0.4444444444444444,
             "#bd3786"
            ],
            [
             0.5555555555555556,
             "#d8576b"
            ],
            [
             0.6666666666666666,
             "#ed7953"
            ],
            [
             0.7777777777777778,
             "#fb9f3a"
            ],
            [
             0.8888888888888888,
             "#fdca26"
            ],
            [
             1,
             "#f0f921"
            ]
           ],
           "sequentialminus": [
            [
             0,
             "#0d0887"
            ],
            [
             0.1111111111111111,
             "#46039f"
            ],
            [
             0.2222222222222222,
             "#7201a8"
            ],
            [
             0.3333333333333333,
             "#9c179e"
            ],
            [
             0.4444444444444444,
             "#bd3786"
            ],
            [
             0.5555555555555556,
             "#d8576b"
            ],
            [
             0.6666666666666666,
             "#ed7953"
            ],
            [
             0.7777777777777778,
             "#fb9f3a"
            ],
            [
             0.8888888888888888,
             "#fdca26"
            ],
            [
             1,
             "#f0f921"
            ]
           ]
          },
          "colorway": [
           "#636efa",
           "#EF553B",
           "#00cc96",
           "#ab63fa",
           "#FFA15A",
           "#19d3f3",
           "#FF6692",
           "#B6E880",
           "#FF97FF",
           "#FECB52"
          ],
          "font": {
           "color": "#2a3f5f"
          },
          "geo": {
           "bgcolor": "white",
           "lakecolor": "white",
           "landcolor": "#E5ECF6",
           "showlakes": true,
           "showland": true,
           "subunitcolor": "white"
          },
          "hoverlabel": {
           "align": "left"
          },
          "hovermode": "closest",
          "mapbox": {
           "style": "light"
          },
          "paper_bgcolor": "white",
          "plot_bgcolor": "#E5ECF6",
          "polar": {
           "angularaxis": {
            "gridcolor": "white",
            "linecolor": "white",
            "ticks": ""
           },
           "bgcolor": "#E5ECF6",
           "radialaxis": {
            "gridcolor": "white",
            "linecolor": "white",
            "ticks": ""
           }
          },
          "scene": {
           "xaxis": {
            "backgroundcolor": "#E5ECF6",
            "gridcolor": "white",
            "gridwidth": 2,
            "linecolor": "white",
            "showbackground": true,
            "ticks": "",
            "zerolinecolor": "white"
           },
           "yaxis": {
            "backgroundcolor": "#E5ECF6",
            "gridcolor": "white",
            "gridwidth": 2,
            "linecolor": "white",
            "showbackground": true,
            "ticks": "",
            "zerolinecolor": "white"
           },
           "zaxis": {
            "backgroundcolor": "#E5ECF6",
            "gridcolor": "white",
            "gridwidth": 2,
            "linecolor": "white",
            "showbackground": true,
            "ticks": "",
            "zerolinecolor": "white"
           }
          },
          "shapedefaults": {
           "line": {
            "color": "#2a3f5f"
           }
          },
          "ternary": {
           "aaxis": {
            "gridcolor": "white",
            "linecolor": "white",
            "ticks": ""
           },
           "baxis": {
            "gridcolor": "white",
            "linecolor": "white",
            "ticks": ""
           },
           "bgcolor": "#E5ECF6",
           "caxis": {
            "gridcolor": "white",
            "linecolor": "white",
            "ticks": ""
           }
          },
          "title": {
           "x": 0.05
          },
          "xaxis": {
           "automargin": true,
           "gridcolor": "white",
           "linecolor": "white",
           "ticks": "",
           "title": {
            "standoff": 15
           },
           "zerolinecolor": "white",
           "zerolinewidth": 2
          },
          "yaxis": {
           "automargin": true,
           "gridcolor": "white",
           "linecolor": "white",
           "ticks": "",
           "title": {
            "standoff": 15
           },
           "zerolinecolor": "white",
           "zerolinewidth": 2
          }
         }
        },
        "title": {
         "text": "3D Visualization of Word Clusters"
        }
       }
      }
     },
     "metadata": {},
     "output_type": "display_data"
    }
   ],
   "source": [
    "import plotly.graph_objects as go\n",
    "from sklearn.decomposition import PCA\n",
    "import plotly.express as px\n",
    "\n",
    "# Perform PCA for dimensionality reduction to 3 components\n",
    "pca = PCA(n_components=3)\n",
    "pca_results = pca.fit_transform(word_embeddings)\n",
    "\n",
    "\n",
    "unique_labels = list(set(labels))  \n",
    "colors = px.colors.qualitative.Plotly \n",
    "\n",
    "fig = go.Figure()\n",
    "for i, label in enumerate(unique_labels):\n",
    "    indices = [index for index, val in enumerate(labels) if val == label]\n",
    "    fig.add_trace(go.Scatter3d(\n",
    "        x=pca_results[indices, 0],\n",
    "        y=pca_results[indices, 1],\n",
    "        z=pca_results[indices, 2],\n",
    "        mode='markers',\n",
    "        marker=dict(\n",
    "            size=5,\n",
    "            color=colors[i % len(colors)],  \n",
    "        ),\n",
    "        name=label  \n",
    "    ))\n",
    "\n",
    "fig.update_layout(\n",
    "    title=\"3D Visualization of Word Clusters\",\n",
    "    scene=dict(\n",
    "        xaxis_title='PCA Dimension 1',\n",
    "        yaxis_title='PCA Dimension 2',\n",
    "        zaxis_title='PCA Dimension 3'\n",
    "    ),\n",
    "    legend_title=\"Cluster\",\n",
    "    margin=dict(l=0, r=0, b=0, t=30)\n",
    ")\n",
    "\n",
    "fig.show()\n"
   ]
  },
  {
   "cell_type": "code",
   "execution_count": 6,
   "metadata": {},
   "outputs": [
    {
     "data": {
      "application/vnd.jupyter.widget-view+json": {
       "model_id": "4d676d245afb454c9a61fd616b479800",
       "version_major": 2,
       "version_minor": 0
      },
      "text/plain": [
       "VBox(children=(Label(value='Select Clusters to Display:'), Checkbox(value=False, description='Emerging (Bio-En…"
      ]
     },
     "metadata": {},
     "output_type": "display_data"
    },
    {
     "data": {
      "application/vnd.jupyter.widget-view+json": {
       "model_id": "ba99a4ed9399479ebbbd7363ab139193",
       "version_major": 2,
       "version_minor": 0
      },
      "text/plain": [
       "Output()"
      ]
     },
     "metadata": {},
     "output_type": "display_data"
    },
    {
     "data": {
      "application/vnd.plotly.v1+json": {
       "config": {
        "plotlyServerURL": "https://plot.ly"
       },
       "data": [
        {
         "marker": {
          "size": 5
         },
         "mode": "markers",
         "name": "Emerging (Bio-Energy)",
         "type": "scatter",
         "x": [
          4.932933807373047,
          4.9358673095703125,
          4.2579731941223145,
          4.719244003295898,
          -1.6832969188690186,
          4.021116733551025,
          -0.9446626305580139,
          6.309212684631348,
          2.957260847091675,
          2.7115120887756348,
          4.556817531585693,
          2.033923625946045,
          -1.8680466413497925,
          3.4015185832977295,
          1.0295475721359253,
          4.053555488586426,
          1.9893264770507812,
          3.969527244567871,
          4.854794025421143,
          2.5583882331848145,
          3.896245241165161,
          5.034589767456055,
          3.362508535385132,
          0.6041175723075867,
          5.879408359527588,
          -3.7406065464019775,
          3.3698132038116455,
          2.8292548656463623,
          4.002591133117676,
          3.343806505203247,
          6.20156717300415,
          3.6150412559509277,
          -0.4740821421146393,
          1.351130485534668,
          0.009126958437263966,
          1.2767153978347778
         ],
         "y": [
          -2.1673548221588135,
          -2.544187068939209,
          -1.032192587852478,
          -0.9499974846839905,
          -2.213263750076294,
          -1.0446460247039795,
          -1.2192440032958984,
          1.9276361465454102,
          -0.7444034814834595,
          -0.5700948238372803,
          -0.5207323431968689,
          0.3135635256767273,
          -0.6264750957489014,
          2.2859694957733154,
          0.2213246375322342,
          1.0550925731658936,
          3.209435224533081,
          -0.4170008599758148,
          0.14811961352825165,
          1.6602565050125122,
          -1.0116264820098877,
          -0.13791461288928986,
          -3.322260618209839,
          -2.4009833335876465,
          -1.5995465517044067,
          0.34552979469299316,
          1.6086736917495728,
          -0.9796196222305298,
          2.759889602661133,
          0.9559499025344849,
          -1.3134558200836182,
          1.0488704442977905,
          0.9822385311126709,
          -4.551015377044678,
          -2.006831407546997,
          -0.8066552877426147
         ]
        },
        {
         "marker": {
          "size": 5
         },
         "mode": "markers",
         "name": "Core (Logistics)",
         "type": "scatter",
         "x": [
          1.7666516304016113,
          -0.38398629426956177,
          -1.4410358667373657,
          -0.7548803091049194,
          0.5671824812889099,
          -3.0005314350128174,
          -0.5069993138313293,
          -0.9627426862716675,
          -0.7087575793266296,
          -0.8666959404945374,
          -2.51408052444458,
          -2.109193801879883,
          -2.439429521560669,
          1.127439260482788,
          -4.197143077850342,
          0.9954360127449036,
          -2.0466606616973877,
          1.716778039932251,
          -1.1925935745239258,
          -0.847470760345459,
          -2.4418623447418213,
          -3.26080060005188,
          -3.047218084335327,
          -3.2310941219329834,
          -1.263476848602295,
          0.207929328083992,
          0.2449648082256317,
          1.9515137672424316,
          -0.7926607131958008,
          -0.972350001335144,
          -1.0351301431655884,
          -0.42910057306289673,
          0.18173545598983765,
          -1.1342219114303589,
          -1.289848804473877,
          -1.6521036624908447,
          -1.5866963863372803,
          0.047168049961328506,
          -0.9097024202346802,
          -3.211158275604248,
          -2.3337016105651855,
          -2.4653570652008057,
          -0.5114703178405762,
          -3.7299749851226807,
          -1.4247055053710938,
          1.042794108390808,
          -0.8426643013954163,
          -2.05244779586792,
          0.931171715259552,
          -2.0454869270324707,
          0.8772072792053223,
          -0.7588319778442383,
          -2.2037241458892822,
          -0.6121547222137451,
          -2.5623698234558105,
          -1.8335473537445068,
          -0.22957295179367065,
          -4.141605854034424,
          -3.8622939586639404,
          -1.7946289777755737,
          -0.03688481077551842,
          -0.8059934377670288,
          -3.2024693489074707,
          0.0685553178191185,
          -2.2532002925872803,
          0.6233029961585999,
          -2.519955635070801,
          -2.338007926940918,
          -1.5449509620666504,
          1.3525292873382568,
          -1.8249462842941284,
          -1.8329799175262451,
          0.48940640687942505,
          1.5418318510055542,
          -2.7312676906585693,
          -3.432210922241211,
          -2.4286653995513916,
          0.8438647985458374,
          -0.25760146975517273,
          0.8667519092559814,
          -0.6756885051727295,
          -0.6357802748680115,
          -0.7698538899421692,
          -1.1120558977127075,
          -0.6449232697486877,
          0.7537329196929932
         ],
         "y": [
          0.2879191040992737,
          -2.552859306335449,
          0.5234555006027222,
          -2.3489937782287598,
          -1.6099191904067993,
          1.8534481525421143,
          -2.0440146923065186,
          -0.37801074981689453,
          0.7140380144119263,
          -1.620934247970581,
          0.5004740357398987,
          0.5718303918838501,
          2.5125458240509033,
          -3.0524303913116455,
          0.2760423719882965,
          -1.0610822439193726,
          -0.7270082235336304,
          -1.0563890933990479,
          -0.15901723504066467,
          -1.878164291381836,
          -0.4536164700984955,
          0.9829704165458679,
          1.2742297649383545,
          0.931195080280304,
          1.9250762462615967,
          -0.137583389878273,
          -2.824937343597412,
          -1.0043917894363403,
          0.8049860596656799,
          -0.6799664497375488,
          -1.397136926651001,
          -1.0267267227172852,
          -4.503822326660156,
          -2.7771713733673096,
          -1.3480356931686401,
          0.07787103205919266,
          -0.8837031126022339,
          -1.0207933187484741,
          -0.9785709381103516,
          1.1113389730453491,
          -1.071083903312683,
          1.0588172674179077,
          1.1765563488006592,
          1.4129658937454224,
          0.8387334942817688,
          -1.7887845039367676,
          -0.7630127668380737,
          -0.16422870755195618,
          -0.8578393459320068,
          0.32439297437667847,
          -3.554871082305908,
          -0.9467111229896545,
          -0.9999223351478577,
          -0.7074732780456543,
          0.47925981879234314,
          -1.4030721187591553,
          -1.0867515802383423,
          1.2702968120574951,
          1.1733181476593018,
          -0.9432867765426636,
          -2.6908586025238037,
          -1.2692114114761353,
          1.6961805820465088,
          -3.027364730834961,
          0.4144703149795532,
          -1.1710920333862305,
          0.2890336215496063,
          2.0725884437561035,
          -1.0429198741912842,
          1.0625231266021729,
          0.48324933648109436,
          1.4037679433822632,
          -0.8650581240653992,
          -2.1628663539886475,
          -0.054705992341041565,
          2.1039860248565674,
          0.6743032932281494,
          -3.035299301147461,
          -0.24231818318367004,
          -1.7627439498901367,
          -1.6191121339797974,
          -1.4764912128448486,
          -1.0513114929199219,
          -0.6165819764137268,
          -0.3347713053226471,
          -1.1923283338546753
         ]
        }
       ],
       "layout": {
        "legend": {
         "title": {
          "text": "Cluster"
         }
        },
        "margin": {
         "b": 0,
         "l": 0,
         "r": 0,
         "t": 30
        },
        "template": {
         "data": {
          "bar": [
           {
            "error_x": {
             "color": "#2a3f5f"
            },
            "error_y": {
             "color": "#2a3f5f"
            },
            "marker": {
             "line": {
              "color": "#E5ECF6",
              "width": 0.5
             },
             "pattern": {
              "fillmode": "overlay",
              "size": 10,
              "solidity": 0.2
             }
            },
            "type": "bar"
           }
          ],
          "barpolar": [
           {
            "marker": {
             "line": {
              "color": "#E5ECF6",
              "width": 0.5
             },
             "pattern": {
              "fillmode": "overlay",
              "size": 10,
              "solidity": 0.2
             }
            },
            "type": "barpolar"
           }
          ],
          "carpet": [
           {
            "aaxis": {
             "endlinecolor": "#2a3f5f",
             "gridcolor": "white",
             "linecolor": "white",
             "minorgridcolor": "white",
             "startlinecolor": "#2a3f5f"
            },
            "baxis": {
             "endlinecolor": "#2a3f5f",
             "gridcolor": "white",
             "linecolor": "white",
             "minorgridcolor": "white",
             "startlinecolor": "#2a3f5f"
            },
            "type": "carpet"
           }
          ],
          "choropleth": [
           {
            "colorbar": {
             "outlinewidth": 0,
             "ticks": ""
            },
            "type": "choropleth"
           }
          ],
          "contour": [
           {
            "colorbar": {
             "outlinewidth": 0,
             "ticks": ""
            },
            "colorscale": [
             [
              0,
              "#0d0887"
             ],
             [
              0.1111111111111111,
              "#46039f"
             ],
             [
              0.2222222222222222,
              "#7201a8"
             ],
             [
              0.3333333333333333,
              "#9c179e"
             ],
             [
              0.4444444444444444,
              "#bd3786"
             ],
             [
              0.5555555555555556,
              "#d8576b"
             ],
             [
              0.6666666666666666,
              "#ed7953"
             ],
             [
              0.7777777777777778,
              "#fb9f3a"
             ],
             [
              0.8888888888888888,
              "#fdca26"
             ],
             [
              1,
              "#f0f921"
             ]
            ],
            "type": "contour"
           }
          ],
          "contourcarpet": [
           {
            "colorbar": {
             "outlinewidth": 0,
             "ticks": ""
            },
            "type": "contourcarpet"
           }
          ],
          "heatmap": [
           {
            "colorbar": {
             "outlinewidth": 0,
             "ticks": ""
            },
            "colorscale": [
             [
              0,
              "#0d0887"
             ],
             [
              0.1111111111111111,
              "#46039f"
             ],
             [
              0.2222222222222222,
              "#7201a8"
             ],
             [
              0.3333333333333333,
              "#9c179e"
             ],
             [
              0.4444444444444444,
              "#bd3786"
             ],
             [
              0.5555555555555556,
              "#d8576b"
             ],
             [
              0.6666666666666666,
              "#ed7953"
             ],
             [
              0.7777777777777778,
              "#fb9f3a"
             ],
             [
              0.8888888888888888,
              "#fdca26"
             ],
             [
              1,
              "#f0f921"
             ]
            ],
            "type": "heatmap"
           }
          ],
          "heatmapgl": [
           {
            "colorbar": {
             "outlinewidth": 0,
             "ticks": ""
            },
            "colorscale": [
             [
              0,
              "#0d0887"
             ],
             [
              0.1111111111111111,
              "#46039f"
             ],
             [
              0.2222222222222222,
              "#7201a8"
             ],
             [
              0.3333333333333333,
              "#9c179e"
             ],
             [
              0.4444444444444444,
              "#bd3786"
             ],
             [
              0.5555555555555556,
              "#d8576b"
             ],
             [
              0.6666666666666666,
              "#ed7953"
             ],
             [
              0.7777777777777778,
              "#fb9f3a"
             ],
             [
              0.8888888888888888,
              "#fdca26"
             ],
             [
              1,
              "#f0f921"
             ]
            ],
            "type": "heatmapgl"
           }
          ],
          "histogram": [
           {
            "marker": {
             "pattern": {
              "fillmode": "overlay",
              "size": 10,
              "solidity": 0.2
             }
            },
            "type": "histogram"
           }
          ],
          "histogram2d": [
           {
            "colorbar": {
             "outlinewidth": 0,
             "ticks": ""
            },
            "colorscale": [
             [
              0,
              "#0d0887"
             ],
             [
              0.1111111111111111,
              "#46039f"
             ],
             [
              0.2222222222222222,
              "#7201a8"
             ],
             [
              0.3333333333333333,
              "#9c179e"
             ],
             [
              0.4444444444444444,
              "#bd3786"
             ],
             [
              0.5555555555555556,
              "#d8576b"
             ],
             [
              0.6666666666666666,
              "#ed7953"
             ],
             [
              0.7777777777777778,
              "#fb9f3a"
             ],
             [
              0.8888888888888888,
              "#fdca26"
             ],
             [
              1,
              "#f0f921"
             ]
            ],
            "type": "histogram2d"
           }
          ],
          "histogram2dcontour": [
           {
            "colorbar": {
             "outlinewidth": 0,
             "ticks": ""
            },
            "colorscale": [
             [
              0,
              "#0d0887"
             ],
             [
              0.1111111111111111,
              "#46039f"
             ],
             [
              0.2222222222222222,
              "#7201a8"
             ],
             [
              0.3333333333333333,
              "#9c179e"
             ],
             [
              0.4444444444444444,
              "#bd3786"
             ],
             [
              0.5555555555555556,
              "#d8576b"
             ],
             [
              0.6666666666666666,
              "#ed7953"
             ],
             [
              0.7777777777777778,
              "#fb9f3a"
             ],
             [
              0.8888888888888888,
              "#fdca26"
             ],
             [
              1,
              "#f0f921"
             ]
            ],
            "type": "histogram2dcontour"
           }
          ],
          "mesh3d": [
           {
            "colorbar": {
             "outlinewidth": 0,
             "ticks": ""
            },
            "type": "mesh3d"
           }
          ],
          "parcoords": [
           {
            "line": {
             "colorbar": {
              "outlinewidth": 0,
              "ticks": ""
             }
            },
            "type": "parcoords"
           }
          ],
          "pie": [
           {
            "automargin": true,
            "type": "pie"
           }
          ],
          "scatter": [
           {
            "fillpattern": {
             "fillmode": "overlay",
             "size": 10,
             "solidity": 0.2
            },
            "type": "scatter"
           }
          ],
          "scatter3d": [
           {
            "line": {
             "colorbar": {
              "outlinewidth": 0,
              "ticks": ""
             }
            },
            "marker": {
             "colorbar": {
              "outlinewidth": 0,
              "ticks": ""
             }
            },
            "type": "scatter3d"
           }
          ],
          "scattercarpet": [
           {
            "marker": {
             "colorbar": {
              "outlinewidth": 0,
              "ticks": ""
             }
            },
            "type": "scattercarpet"
           }
          ],
          "scattergeo": [
           {
            "marker": {
             "colorbar": {
              "outlinewidth": 0,
              "ticks": ""
             }
            },
            "type": "scattergeo"
           }
          ],
          "scattergl": [
           {
            "marker": {
             "colorbar": {
              "outlinewidth": 0,
              "ticks": ""
             }
            },
            "type": "scattergl"
           }
          ],
          "scattermapbox": [
           {
            "marker": {
             "colorbar": {
              "outlinewidth": 0,
              "ticks": ""
             }
            },
            "type": "scattermapbox"
           }
          ],
          "scatterpolar": [
           {
            "marker": {
             "colorbar": {
              "outlinewidth": 0,
              "ticks": ""
             }
            },
            "type": "scatterpolar"
           }
          ],
          "scatterpolargl": [
           {
            "marker": {
             "colorbar": {
              "outlinewidth": 0,
              "ticks": ""
             }
            },
            "type": "scatterpolargl"
           }
          ],
          "scatterternary": [
           {
            "marker": {
             "colorbar": {
              "outlinewidth": 0,
              "ticks": ""
             }
            },
            "type": "scatterternary"
           }
          ],
          "surface": [
           {
            "colorbar": {
             "outlinewidth": 0,
             "ticks": ""
            },
            "colorscale": [
             [
              0,
              "#0d0887"
             ],
             [
              0.1111111111111111,
              "#46039f"
             ],
             [
              0.2222222222222222,
              "#7201a8"
             ],
             [
              0.3333333333333333,
              "#9c179e"
             ],
             [
              0.4444444444444444,
              "#bd3786"
             ],
             [
              0.5555555555555556,
              "#d8576b"
             ],
             [
              0.6666666666666666,
              "#ed7953"
             ],
             [
              0.7777777777777778,
              "#fb9f3a"
             ],
             [
              0.8888888888888888,
              "#fdca26"
             ],
             [
              1,
              "#f0f921"
             ]
            ],
            "type": "surface"
           }
          ],
          "table": [
           {
            "cells": {
             "fill": {
              "color": "#EBF0F8"
             },
             "line": {
              "color": "white"
             }
            },
            "header": {
             "fill": {
              "color": "#C8D4E3"
             },
             "line": {
              "color": "white"
             }
            },
            "type": "table"
           }
          ]
         },
         "layout": {
          "annotationdefaults": {
           "arrowcolor": "#2a3f5f",
           "arrowhead": 0,
           "arrowwidth": 1
          },
          "autotypenumbers": "strict",
          "coloraxis": {
           "colorbar": {
            "outlinewidth": 0,
            "ticks": ""
           }
          },
          "colorscale": {
           "diverging": [
            [
             0,
             "#8e0152"
            ],
            [
             0.1,
             "#c51b7d"
            ],
            [
             0.2,
             "#de77ae"
            ],
            [
             0.3,
             "#f1b6da"
            ],
            [
             0.4,
             "#fde0ef"
            ],
            [
             0.5,
             "#f7f7f7"
            ],
            [
             0.6,
             "#e6f5d0"
            ],
            [
             0.7,
             "#b8e186"
            ],
            [
             0.8,
             "#7fbc41"
            ],
            [
             0.9,
             "#4d9221"
            ],
            [
             1,
             "#276419"
            ]
           ],
           "sequential": [
            [
             0,
             "#0d0887"
            ],
            [
             0.1111111111111111,
             "#46039f"
            ],
            [
             0.2222222222222222,
             "#7201a8"
            ],
            [
             0.3333333333333333,
             "#9c179e"
            ],
            [
             0.4444444444444444,
             "#bd3786"
            ],
            [
             0.5555555555555556,
             "#d8576b"
            ],
            [
             0.6666666666666666,
             "#ed7953"
            ],
            [
             0.7777777777777778,
             "#fb9f3a"
            ],
            [
             0.8888888888888888,
             "#fdca26"
            ],
            [
             1,
             "#f0f921"
            ]
           ],
           "sequentialminus": [
            [
             0,
             "#0d0887"
            ],
            [
             0.1111111111111111,
             "#46039f"
            ],
            [
             0.2222222222222222,
             "#7201a8"
            ],
            [
             0.3333333333333333,
             "#9c179e"
            ],
            [
             0.4444444444444444,
             "#bd3786"
            ],
            [
             0.5555555555555556,
             "#d8576b"
            ],
            [
             0.6666666666666666,
             "#ed7953"
            ],
            [
             0.7777777777777778,
             "#fb9f3a"
            ],
            [
             0.8888888888888888,
             "#fdca26"
            ],
            [
             1,
             "#f0f921"
            ]
           ]
          },
          "colorway": [
           "#636efa",
           "#EF553B",
           "#00cc96",
           "#ab63fa",
           "#FFA15A",
           "#19d3f3",
           "#FF6692",
           "#B6E880",
           "#FF97FF",
           "#FECB52"
          ],
          "font": {
           "color": "#2a3f5f"
          },
          "geo": {
           "bgcolor": "white",
           "lakecolor": "white",
           "landcolor": "#E5ECF6",
           "showlakes": true,
           "showland": true,
           "subunitcolor": "white"
          },
          "hoverlabel": {
           "align": "left"
          },
          "hovermode": "closest",
          "mapbox": {
           "style": "light"
          },
          "paper_bgcolor": "white",
          "plot_bgcolor": "#E5ECF6",
          "polar": {
           "angularaxis": {
            "gridcolor": "white",
            "linecolor": "white",
            "ticks": ""
           },
           "bgcolor": "#E5ECF6",
           "radialaxis": {
            "gridcolor": "white",
            "linecolor": "white",
            "ticks": ""
           }
          },
          "scene": {
           "xaxis": {
            "backgroundcolor": "#E5ECF6",
            "gridcolor": "white",
            "gridwidth": 2,
            "linecolor": "white",
            "showbackground": true,
            "ticks": "",
            "zerolinecolor": "white"
           },
           "yaxis": {
            "backgroundcolor": "#E5ECF6",
            "gridcolor": "white",
            "gridwidth": 2,
            "linecolor": "white",
            "showbackground": true,
            "ticks": "",
            "zerolinecolor": "white"
           },
           "zaxis": {
            "backgroundcolor": "#E5ECF6",
            "gridcolor": "white",
            "gridwidth": 2,
            "linecolor": "white",
            "showbackground": true,
            "ticks": "",
            "zerolinecolor": "white"
           }
          },
          "shapedefaults": {
           "line": {
            "color": "#2a3f5f"
           }
          },
          "ternary": {
           "aaxis": {
            "gridcolor": "white",
            "linecolor": "white",
            "ticks": ""
           },
           "baxis": {
            "gridcolor": "white",
            "linecolor": "white",
            "ticks": ""
           },
           "bgcolor": "#E5ECF6",
           "caxis": {
            "gridcolor": "white",
            "linecolor": "white",
            "ticks": ""
           }
          },
          "title": {
           "x": 0.05
          },
          "xaxis": {
           "automargin": true,
           "gridcolor": "white",
           "linecolor": "white",
           "ticks": "",
           "title": {
            "standoff": 15
           },
           "zerolinecolor": "white",
           "zerolinewidth": 2
          },
          "yaxis": {
           "automargin": true,
           "gridcolor": "white",
           "linecolor": "white",
           "ticks": "",
           "title": {
            "standoff": 15
           },
           "zerolinecolor": "white",
           "zerolinewidth": 2
          }
         }
        },
        "title": {
         "text": "2D Visualization of Selected Clusters"
        },
        "xaxis": {
         "title": {
          "text": "PCA Dimension 1"
         }
        },
        "yaxis": {
         "title": {
          "text": "PCA Dimension 2"
         }
        }
       }
      }
     },
     "metadata": {},
     "output_type": "display_data"
    }
   ],
   "source": [
    "import ipywidgets as widgets\n",
    "from IPython.display import display, clear_output\n",
    "import plotly.graph_objects as go\n",
    "from sklearn.decomposition import PCA\n",
    "\n",
    "# Assume 'word_embeddings' and 'labels' are already available\n",
    "\n",
    "# Perform PCA for 2D reduction\n",
    "pca = PCA(n_components=2)\n",
    "pca_results = pca.fit_transform(word_embeddings)\n",
    "\n",
    "# Get unique cluster names\n",
    "unique_labels = list(set(labels))\n",
    "\n",
    "# Create a dictionary to hold checkbox widgets for each cluster\n",
    "checkboxes = {label: widgets.Checkbox(value=False, description=label) for label in unique_labels}\n",
    "update_button = widgets.Button(description=\"Update Plot\")\n",
    "clear_button = widgets.Button(description=\"Clear Plot\")\n",
    "\n",
    "# Output widget to hold the plot\n",
    "output = widgets.Output()\n",
    "\n",
    "# Function to update the plot based on selected clusters\n",
    "def on_update_button_clicked(b):\n",
    "    with output:\n",
    "        clear_output(wait=True)  # Clear the existing plot output properly\n",
    "        selected_labels = [label for label, checkbox in checkboxes.items() if checkbox.value]\n",
    "        fig = go.Figure()\n",
    "        for label in selected_labels:\n",
    "            indices = [i for i, l in enumerate(labels) if l == label]\n",
    "            fig.add_trace(go.Scatter(\n",
    "                x=pca_results[indices, 0],\n",
    "                y=pca_results[indices, 1],\n",
    "                mode='markers',\n",
    "                marker=dict(size=5),\n",
    "                name=label\n",
    "            ))\n",
    "        \n",
    "        fig.update_layout(\n",
    "            title=\"2D Visualization of Selected Clusters\",\n",
    "            xaxis_title='PCA Dimension 1',\n",
    "            yaxis_title='PCA Dimension 2',\n",
    "            legend_title=\"Cluster\",\n",
    "            margin=dict(l=0, r=0, b=0, t=30)\n",
    "        )\n",
    "        fig.show()\n",
    "\n",
    "# Function to clear the plot output\n",
    "def on_clear_button_clicked(b):\n",
    "    with output:\n",
    "        clear_output(wait=True)  # Ensure the output widget is cleared completely\n",
    "\n",
    "# Set up the button events\n",
    "update_button.on_click(on_update_button_clicked)\n",
    "clear_button.on_click(on_clear_button_clicked)\n",
    "\n",
    "# Display checkboxes and buttons\n",
    "controls = widgets.VBox([widgets.Label(\"Select Clusters to Display:\")] + list(checkboxes.values()) + [update_button, clear_button])\n",
    "display(controls, output)\n"
   ]
  },
  {
   "cell_type": "code",
   "execution_count": 7,
   "metadata": {},
   "outputs": [
    {
     "data": {
      "application/vnd.jupyter.widget-view+json": {
       "model_id": "5ddabed7cfac4a00b301bb0d290d6e66",
       "version_major": 2,
       "version_minor": 0
      },
      "text/plain": [
       "VBox(children=(Label(value='Select Clusters to Display:'), Checkbox(value=False, description='Emerging (Bio-En…"
      ]
     },
     "metadata": {},
     "output_type": "display_data"
    },
    {
     "data": {
      "application/vnd.jupyter.widget-view+json": {
       "model_id": "1eb6361338c44acf8694b1f98606bdb7",
       "version_major": 2,
       "version_minor": 0
      },
      "text/plain": [
       "Output()"
      ]
     },
     "metadata": {},
     "output_type": "display_data"
    },
    {
     "data": {
      "application/vnd.plotly.v1+json": {
       "config": {
        "plotlyServerURL": "https://plot.ly"
       },
       "data": [
        {
         "marker": {
          "size": 5
         },
         "mode": "markers",
         "name": "Core (Logistics)",
         "type": "scatter3d",
         "x": [
          1.7666529417037964,
          -0.3839891850948334,
          -1.4410336017608643,
          -0.7548831701278687,
          0.5671816468238831,
          -3.0005297660827637,
          -0.5070014595985413,
          -0.9627420902252197,
          -0.7087545990943909,
          -0.8666979670524597,
          -2.5140810012817383,
          -2.1091935634613037,
          -2.4394257068634033,
          1.1274371147155762,
          -4.197147369384766,
          0.9954370856285095,
          -2.0466623306274414,
          1.7167798280715942,
          -1.192594051361084,
          -0.8474735021591187,
          -2.441864490509033,
          -3.2608015537261963,
          -3.047217845916748,
          -3.2310943603515625,
          -1.263472080230713,
          0.2079295963048935,
          0.24496151506900787,
          1.9515148401260376,
          -0.7926579713821411,
          -0.9723511338233948,
          -1.0351322889328003,
          -0.4291011095046997,
          0.18172802031040192,
          -1.1342267990112305,
          -1.2898517847061157,
          -1.6521040201187134,
          -1.586696982383728,
          0.04716748371720314,
          -0.909702718257904,
          -3.211158037185669,
          -2.333705425262451,
          -2.4653570652008057,
          -0.511467456817627,
          -3.729975461959839,
          -1.4247034788131714,
          1.0427916049957275,
          -0.8426637649536133,
          -2.052448272705078,
          0.9311719536781311,
          -2.045485496520996,
          0.8772037029266357,
          -0.7588324546813965,
          -2.203727960586548,
          -0.6121542453765869,
          -2.5623693466186523,
          -1.8335497379302979,
          -0.22957348823547363,
          -4.141606330871582,
          -3.8622944355010986,
          -1.7946308851242065,
          -0.03688830882310867,
          -0.8059948682785034,
          -3.202470064163208,
          0.06855112314224243,
          -2.2532007694244385,
          0.6233040690422058,
          -2.5199568271636963,
          -2.338005304336548,
          -1.5449539422988892,
          1.3525334596633911,
          -1.8249462842941284,
          -1.8329776525497437,
          0.48940661549568176,
          1.5418304204940796,
          -2.731269359588623,
          -3.4322094917297363,
          -2.428664445877075,
          0.8438624143600464,
          -0.257599800825119,
          0.8667511940002441,
          -0.675689697265625,
          -0.6357817053794861,
          -0.7698556184768677,
          -1.1120569705963135,
          -0.6449222564697266,
          0.7537334561347961
         ],
         "y": [
          0.287905216217041,
          -2.552860736846924,
          0.5234581232070923,
          -2.3489975929260254,
          -1.6099154949188232,
          1.8534430265426636,
          -2.044013261795044,
          -0.37800532579421997,
          0.714040994644165,
          -1.6209330558776855,
          0.5004720091819763,
          0.5718288421630859,
          2.512542247772217,
          -3.052434206008911,
          0.27603402733802795,
          -1.0610852241516113,
          -0.7270095944404602,
          -1.0563852787017822,
          -0.1590183973312378,
          -1.8781585693359375,
          -0.45362210273742676,
          0.9829666614532471,
          1.2742295265197754,
          0.931193470954895,
          1.9250812530517578,
          -0.13758830726146698,
          -2.824944019317627,
          -1.0043890476226807,
          0.8049895763397217,
          -0.6799654960632324,
          -1.3971333503723145,
          -1.026719570159912,
          -4.503823757171631,
          -2.777174949645996,
          -1.3480390310287476,
          0.07786574214696884,
          -0.8836969137191772,
          -1.0207892656326294,
          -0.9785659313201904,
          1.1113409996032715,
          -1.0710901021957397,
          1.058812141418457,
          1.1765600442886353,
          1.412956714630127,
          0.8387439846992493,
          -1.788795828819275,
          -0.7630147933959961,
          -0.16423220932483673,
          -0.8578411936759949,
          0.3243964910507202,
          -3.554860830307007,
          -0.9467065334320068,
          -0.9999216794967651,
          -0.7074658274650574,
          0.4792577028274536,
          -1.4030760526657104,
          -1.0867502689361572,
          1.2702853679656982,
          1.1733101606369019,
          -0.9432944655418396,
          -2.6908490657806396,
          -1.2692196369171143,
          1.6961761713027954,
          -3.0273654460906982,
          0.41446566581726074,
          -1.1710882186889648,
          0.2890387177467346,
          2.0725886821746826,
          -1.0429191589355469,
          1.0625227689743042,
          0.4832439422607422,
          1.403773307800293,
          -0.8650622367858887,
          -2.1628658771514893,
          -0.05470388010144234,
          2.1039836406707764,
          0.6743033528327942,
          -3.035295248031616,
          -0.2423107773065567,
          -1.7627424001693726,
          -1.619100570678711,
          -1.4764834642410278,
          -1.0513120889663696,
          -0.6165758371353149,
          -0.33475497364997864,
          -1.1923224925994873
         ],
         "z": [
          -0.36890703439712524,
          -1.5610179901123047,
          -1.9968092441558838,
          -1.113804578781128,
          -1.5275965929031372,
          0.34996268153190613,
          -0.941204845905304,
          -1.5985757112503052,
          -2.7765443325042725,
          -0.8718981146812439,
          -0.2214183360338211,
          0.7845962643623352,
          -0.5541934370994568,
          -2.5106494426727295,
          2.1797661781311035,
          -1.6944323778152466,
          -0.23867182433605194,
          -2.349763870239258,
          -0.04126956686377525,
          -0.2806779444217682,
          0.20784424245357513,
          1.0578157901763916,
          0.029800739139318466,
          0.8723771572113037,
          -2.330894708633423,
          -0.5035932660102844,
          -1.5782639980316162,
          -1.6833043098449707,
          -2.0274784564971924,
          -0.8479723334312439,
          0.01564212515950203,
          -1.05727219581604,
          0.371356725692749,
          0.098345547914505,
          0.07175523042678833,
          -0.41169553995132446,
          -1.2605154514312744,
          -1.0730115175247192,
          -1.748500943183899,
          -0.09555620700120926,
          0.08871617168188095,
          0.7223603129386902,
          -1.22848641872406,
          0.8821508884429932,
          -1.7695367336273193,
          0.08003203570842743,
          -2.1123907566070557,
          0.12652848660945892,
          -1.7815712690353394,
          -1.6691683530807495,
          -2.0563201904296875,
          -1.4647610187530518,
          1.1645957231521606,
          -2.379363536834717,
          -0.16536080837249756,
          -0.03100685030221939,
          -1.152936577796936,
          2.152587413787842,
          1.8817700147628784,
          -0.6248269081115723,
          -0.8934223055839539,
          -0.9019109606742859,
          0.9407074451446533,
          -1.011308193206787,
          0.10430381447076797,
          -3.3217923641204834,
          0.6144224405288696,
          -0.043223608285188675,
          1.221030831336975,
          -2.239225387573242,
          -0.02039368450641632,
          -1.0120340585708618,
          -1.5910760164260864,
          -1.8563480377197266,
          -0.5212947726249695,
          0.08338866382837296,
          0.08018822222948074,
          -2.7150473594665527,
          -2.7193667888641357,
          -1.9081945419311523,
          -1.8126283884048462,
          -1.789164662361145,
          0.18543238937854767,
          -1.0847444534301758,
          -2.0961434841156006,
          -2.2221877574920654
         ]
        },
        {
         "marker": {
          "size": 5
         },
         "mode": "markers",
         "name": "Emerging (Unrelated)",
         "type": "scatter3d",
         "x": [
          1.5259978771209717,
          -0.9614861607551575,
          -0.5015764832496643,
          0.3377208411693573,
          -0.42341184616088867,
          3.4028313159942627,
          -1.3945614099502563,
          -2.16548228263855,
          -1.5544373989105225,
          -2.15927791595459,
          2.3304450511932373,
          -0.8818868398666382,
          -1.9440722465515137,
          -2.7508249282836914,
          -3.575796365737915,
          -1.1446459293365479
         ],
         "y": [
          0.7631363868713379,
          0.21185149252414703,
          -0.8319505453109741,
          -0.9145137071609497,
          -0.8783513903617859,
          -1.1102550029754639,
          -0.7179654836654663,
          0.5725803375244141,
          0.31389570236206055,
          0.16039921343326569,
          -0.9916247725486755,
          -0.9449896216392517,
          -2.6372640132904053,
          1.2281545400619507,
          -0.5676838159561157,
          2.583984851837158
         ],
         "z": [
          -1.5706526041030884,
          -2.3894429206848145,
          -1.04042387008667,
          -0.3908090591430664,
          -0.7358890175819397,
          -1.2575987577438354,
          -0.6796751618385315,
          -0.15318670868873596,
          -0.13774438202381134,
          -0.8275220394134521,
          -1.6997010707855225,
          0.180090993642807,
          1.4270074367523193,
          -0.5381921529769897,
          1.3370587825775146,
          -1.7368937730789185
         ]
        }
       ],
       "layout": {
        "legend": {
         "title": {
          "text": "Cluster"
         }
        },
        "margin": {
         "b": 0,
         "l": 0,
         "r": 0,
         "t": 30
        },
        "scene": {
         "xaxis": {
          "title": {
           "text": "PCA Dimension 1"
          }
         },
         "yaxis": {
          "title": {
           "text": "PCA Dimension 2"
          }
         },
         "zaxis": {
          "title": {
           "text": "PCA Dimension 3"
          }
         }
        },
        "template": {
         "data": {
          "bar": [
           {
            "error_x": {
             "color": "#2a3f5f"
            },
            "error_y": {
             "color": "#2a3f5f"
            },
            "marker": {
             "line": {
              "color": "#E5ECF6",
              "width": 0.5
             },
             "pattern": {
              "fillmode": "overlay",
              "size": 10,
              "solidity": 0.2
             }
            },
            "type": "bar"
           }
          ],
          "barpolar": [
           {
            "marker": {
             "line": {
              "color": "#E5ECF6",
              "width": 0.5
             },
             "pattern": {
              "fillmode": "overlay",
              "size": 10,
              "solidity": 0.2
             }
            },
            "type": "barpolar"
           }
          ],
          "carpet": [
           {
            "aaxis": {
             "endlinecolor": "#2a3f5f",
             "gridcolor": "white",
             "linecolor": "white",
             "minorgridcolor": "white",
             "startlinecolor": "#2a3f5f"
            },
            "baxis": {
             "endlinecolor": "#2a3f5f",
             "gridcolor": "white",
             "linecolor": "white",
             "minorgridcolor": "white",
             "startlinecolor": "#2a3f5f"
            },
            "type": "carpet"
           }
          ],
          "choropleth": [
           {
            "colorbar": {
             "outlinewidth": 0,
             "ticks": ""
            },
            "type": "choropleth"
           }
          ],
          "contour": [
           {
            "colorbar": {
             "outlinewidth": 0,
             "ticks": ""
            },
            "colorscale": [
             [
              0,
              "#0d0887"
             ],
             [
              0.1111111111111111,
              "#46039f"
             ],
             [
              0.2222222222222222,
              "#7201a8"
             ],
             [
              0.3333333333333333,
              "#9c179e"
             ],
             [
              0.4444444444444444,
              "#bd3786"
             ],
             [
              0.5555555555555556,
              "#d8576b"
             ],
             [
              0.6666666666666666,
              "#ed7953"
             ],
             [
              0.7777777777777778,
              "#fb9f3a"
             ],
             [
              0.8888888888888888,
              "#fdca26"
             ],
             [
              1,
              "#f0f921"
             ]
            ],
            "type": "contour"
           }
          ],
          "contourcarpet": [
           {
            "colorbar": {
             "outlinewidth": 0,
             "ticks": ""
            },
            "type": "contourcarpet"
           }
          ],
          "heatmap": [
           {
            "colorbar": {
             "outlinewidth": 0,
             "ticks": ""
            },
            "colorscale": [
             [
              0,
              "#0d0887"
             ],
             [
              0.1111111111111111,
              "#46039f"
             ],
             [
              0.2222222222222222,
              "#7201a8"
             ],
             [
              0.3333333333333333,
              "#9c179e"
             ],
             [
              0.4444444444444444,
              "#bd3786"
             ],
             [
              0.5555555555555556,
              "#d8576b"
             ],
             [
              0.6666666666666666,
              "#ed7953"
             ],
             [
              0.7777777777777778,
              "#fb9f3a"
             ],
             [
              0.8888888888888888,
              "#fdca26"
             ],
             [
              1,
              "#f0f921"
             ]
            ],
            "type": "heatmap"
           }
          ],
          "heatmapgl": [
           {
            "colorbar": {
             "outlinewidth": 0,
             "ticks": ""
            },
            "colorscale": [
             [
              0,
              "#0d0887"
             ],
             [
              0.1111111111111111,
              "#46039f"
             ],
             [
              0.2222222222222222,
              "#7201a8"
             ],
             [
              0.3333333333333333,
              "#9c179e"
             ],
             [
              0.4444444444444444,
              "#bd3786"
             ],
             [
              0.5555555555555556,
              "#d8576b"
             ],
             [
              0.6666666666666666,
              "#ed7953"
             ],
             [
              0.7777777777777778,
              "#fb9f3a"
             ],
             [
              0.8888888888888888,
              "#fdca26"
             ],
             [
              1,
              "#f0f921"
             ]
            ],
            "type": "heatmapgl"
           }
          ],
          "histogram": [
           {
            "marker": {
             "pattern": {
              "fillmode": "overlay",
              "size": 10,
              "solidity": 0.2
             }
            },
            "type": "histogram"
           }
          ],
          "histogram2d": [
           {
            "colorbar": {
             "outlinewidth": 0,
             "ticks": ""
            },
            "colorscale": [
             [
              0,
              "#0d0887"
             ],
             [
              0.1111111111111111,
              "#46039f"
             ],
             [
              0.2222222222222222,
              "#7201a8"
             ],
             [
              0.3333333333333333,
              "#9c179e"
             ],
             [
              0.4444444444444444,
              "#bd3786"
             ],
             [
              0.5555555555555556,
              "#d8576b"
             ],
             [
              0.6666666666666666,
              "#ed7953"
             ],
             [
              0.7777777777777778,
              "#fb9f3a"
             ],
             [
              0.8888888888888888,
              "#fdca26"
             ],
             [
              1,
              "#f0f921"
             ]
            ],
            "type": "histogram2d"
           }
          ],
          "histogram2dcontour": [
           {
            "colorbar": {
             "outlinewidth": 0,
             "ticks": ""
            },
            "colorscale": [
             [
              0,
              "#0d0887"
             ],
             [
              0.1111111111111111,
              "#46039f"
             ],
             [
              0.2222222222222222,
              "#7201a8"
             ],
             [
              0.3333333333333333,
              "#9c179e"
             ],
             [
              0.4444444444444444,
              "#bd3786"
             ],
             [
              0.5555555555555556,
              "#d8576b"
             ],
             [
              0.6666666666666666,
              "#ed7953"
             ],
             [
              0.7777777777777778,
              "#fb9f3a"
             ],
             [
              0.8888888888888888,
              "#fdca26"
             ],
             [
              1,
              "#f0f921"
             ]
            ],
            "type": "histogram2dcontour"
           }
          ],
          "mesh3d": [
           {
            "colorbar": {
             "outlinewidth": 0,
             "ticks": ""
            },
            "type": "mesh3d"
           }
          ],
          "parcoords": [
           {
            "line": {
             "colorbar": {
              "outlinewidth": 0,
              "ticks": ""
             }
            },
            "type": "parcoords"
           }
          ],
          "pie": [
           {
            "automargin": true,
            "type": "pie"
           }
          ],
          "scatter": [
           {
            "fillpattern": {
             "fillmode": "overlay",
             "size": 10,
             "solidity": 0.2
            },
            "type": "scatter"
           }
          ],
          "scatter3d": [
           {
            "line": {
             "colorbar": {
              "outlinewidth": 0,
              "ticks": ""
             }
            },
            "marker": {
             "colorbar": {
              "outlinewidth": 0,
              "ticks": ""
             }
            },
            "type": "scatter3d"
           }
          ],
          "scattercarpet": [
           {
            "marker": {
             "colorbar": {
              "outlinewidth": 0,
              "ticks": ""
             }
            },
            "type": "scattercarpet"
           }
          ],
          "scattergeo": [
           {
            "marker": {
             "colorbar": {
              "outlinewidth": 0,
              "ticks": ""
             }
            },
            "type": "scattergeo"
           }
          ],
          "scattergl": [
           {
            "marker": {
             "colorbar": {
              "outlinewidth": 0,
              "ticks": ""
             }
            },
            "type": "scattergl"
           }
          ],
          "scattermapbox": [
           {
            "marker": {
             "colorbar": {
              "outlinewidth": 0,
              "ticks": ""
             }
            },
            "type": "scattermapbox"
           }
          ],
          "scatterpolar": [
           {
            "marker": {
             "colorbar": {
              "outlinewidth": 0,
              "ticks": ""
             }
            },
            "type": "scatterpolar"
           }
          ],
          "scatterpolargl": [
           {
            "marker": {
             "colorbar": {
              "outlinewidth": 0,
              "ticks": ""
             }
            },
            "type": "scatterpolargl"
           }
          ],
          "scatterternary": [
           {
            "marker": {
             "colorbar": {
              "outlinewidth": 0,
              "ticks": ""
             }
            },
            "type": "scatterternary"
           }
          ],
          "surface": [
           {
            "colorbar": {
             "outlinewidth": 0,
             "ticks": ""
            },
            "colorscale": [
             [
              0,
              "#0d0887"
             ],
             [
              0.1111111111111111,
              "#46039f"
             ],
             [
              0.2222222222222222,
              "#7201a8"
             ],
             [
              0.3333333333333333,
              "#9c179e"
             ],
             [
              0.4444444444444444,
              "#bd3786"
             ],
             [
              0.5555555555555556,
              "#d8576b"
             ],
             [
              0.6666666666666666,
              "#ed7953"
             ],
             [
              0.7777777777777778,
              "#fb9f3a"
             ],
             [
              0.8888888888888888,
              "#fdca26"
             ],
             [
              1,
              "#f0f921"
             ]
            ],
            "type": "surface"
           }
          ],
          "table": [
           {
            "cells": {
             "fill": {
              "color": "#EBF0F8"
             },
             "line": {
              "color": "white"
             }
            },
            "header": {
             "fill": {
              "color": "#C8D4E3"
             },
             "line": {
              "color": "white"
             }
            },
            "type": "table"
           }
          ]
         },
         "layout": {
          "annotationdefaults": {
           "arrowcolor": "#2a3f5f",
           "arrowhead": 0,
           "arrowwidth": 1
          },
          "autotypenumbers": "strict",
          "coloraxis": {
           "colorbar": {
            "outlinewidth": 0,
            "ticks": ""
           }
          },
          "colorscale": {
           "diverging": [
            [
             0,
             "#8e0152"
            ],
            [
             0.1,
             "#c51b7d"
            ],
            [
             0.2,
             "#de77ae"
            ],
            [
             0.3,
             "#f1b6da"
            ],
            [
             0.4,
             "#fde0ef"
            ],
            [
             0.5,
             "#f7f7f7"
            ],
            [
             0.6,
             "#e6f5d0"
            ],
            [
             0.7,
             "#b8e186"
            ],
            [
             0.8,
             "#7fbc41"
            ],
            [
             0.9,
             "#4d9221"
            ],
            [
             1,
             "#276419"
            ]
           ],
           "sequential": [
            [
             0,
             "#0d0887"
            ],
            [
             0.1111111111111111,
             "#46039f"
            ],
            [
             0.2222222222222222,
             "#7201a8"
            ],
            [
             0.3333333333333333,
             "#9c179e"
            ],
            [
             0.4444444444444444,
             "#bd3786"
            ],
            [
             0.5555555555555556,
             "#d8576b"
            ],
            [
             0.6666666666666666,
             "#ed7953"
            ],
            [
             0.7777777777777778,
             "#fb9f3a"
            ],
            [
             0.8888888888888888,
             "#fdca26"
            ],
            [
             1,
             "#f0f921"
            ]
           ],
           "sequentialminus": [
            [
             0,
             "#0d0887"
            ],
            [
             0.1111111111111111,
             "#46039f"
            ],
            [
             0.2222222222222222,
             "#7201a8"
            ],
            [
             0.3333333333333333,
             "#9c179e"
            ],
            [
             0.4444444444444444,
             "#bd3786"
            ],
            [
             0.5555555555555556,
             "#d8576b"
            ],
            [
             0.6666666666666666,
             "#ed7953"
            ],
            [
             0.7777777777777778,
             "#fb9f3a"
            ],
            [
             0.8888888888888888,
             "#fdca26"
            ],
            [
             1,
             "#f0f921"
            ]
           ]
          },
          "colorway": [
           "#636efa",
           "#EF553B",
           "#00cc96",
           "#ab63fa",
           "#FFA15A",
           "#19d3f3",
           "#FF6692",
           "#B6E880",
           "#FF97FF",
           "#FECB52"
          ],
          "font": {
           "color": "#2a3f5f"
          },
          "geo": {
           "bgcolor": "white",
           "lakecolor": "white",
           "landcolor": "#E5ECF6",
           "showlakes": true,
           "showland": true,
           "subunitcolor": "white"
          },
          "hoverlabel": {
           "align": "left"
          },
          "hovermode": "closest",
          "mapbox": {
           "style": "light"
          },
          "paper_bgcolor": "white",
          "plot_bgcolor": "#E5ECF6",
          "polar": {
           "angularaxis": {
            "gridcolor": "white",
            "linecolor": "white",
            "ticks": ""
           },
           "bgcolor": "#E5ECF6",
           "radialaxis": {
            "gridcolor": "white",
            "linecolor": "white",
            "ticks": ""
           }
          },
          "scene": {
           "xaxis": {
            "backgroundcolor": "#E5ECF6",
            "gridcolor": "white",
            "gridwidth": 2,
            "linecolor": "white",
            "showbackground": true,
            "ticks": "",
            "zerolinecolor": "white"
           },
           "yaxis": {
            "backgroundcolor": "#E5ECF6",
            "gridcolor": "white",
            "gridwidth": 2,
            "linecolor": "white",
            "showbackground": true,
            "ticks": "",
            "zerolinecolor": "white"
           },
           "zaxis": {
            "backgroundcolor": "#E5ECF6",
            "gridcolor": "white",
            "gridwidth": 2,
            "linecolor": "white",
            "showbackground": true,
            "ticks": "",
            "zerolinecolor": "white"
           }
          },
          "shapedefaults": {
           "line": {
            "color": "#2a3f5f"
           }
          },
          "ternary": {
           "aaxis": {
            "gridcolor": "white",
            "linecolor": "white",
            "ticks": ""
           },
           "baxis": {
            "gridcolor": "white",
            "linecolor": "white",
            "ticks": ""
           },
           "bgcolor": "#E5ECF6",
           "caxis": {
            "gridcolor": "white",
            "linecolor": "white",
            "ticks": ""
           }
          },
          "title": {
           "x": 0.05
          },
          "xaxis": {
           "automargin": true,
           "gridcolor": "white",
           "linecolor": "white",
           "ticks": "",
           "title": {
            "standoff": 15
           },
           "zerolinecolor": "white",
           "zerolinewidth": 2
          },
          "yaxis": {
           "automargin": true,
           "gridcolor": "white",
           "linecolor": "white",
           "ticks": "",
           "title": {
            "standoff": 15
           },
           "zerolinecolor": "white",
           "zerolinewidth": 2
          }
         }
        },
        "title": {
         "text": "3D Visualization of Selected Clusters"
        }
       }
      }
     },
     "metadata": {},
     "output_type": "display_data"
    }
   ],
   "source": [
    "import ipywidgets as widgets\n",
    "from IPython.display import display, clear_output\n",
    "import plotly.graph_objects as go\n",
    "from sklearn.decomposition import PCA\n",
    "\n",
    "# Assume 'word_embeddings' and 'labels' are already available\n",
    "\n",
    "# Perform PCA for 3D reduction\n",
    "pca = PCA(n_components=3)\n",
    "pca_results = pca.fit_transform(word_embeddings)\n",
    "\n",
    "# Get unique cluster names\n",
    "unique_labels = list(set(labels))\n",
    "\n",
    "# Create a dictionary to hold checkbox widgets for each cluster\n",
    "checkboxes = {label: widgets.Checkbox(value=False, description=label) for label in unique_labels}\n",
    "update_button = widgets.Button(description=\"Update Plot\")\n",
    "clear_button = widgets.Button(description=\"Clear Plot\")\n",
    "\n",
    "# Output widget to hold the plot\n",
    "output = widgets.Output()\n",
    "\n",
    "# Function to update the plot based on selected clusters\n",
    "def on_update_button_clicked(b):\n",
    "    selected_labels = [label for label, checkbox in checkboxes.items() if checkbox.value]\n",
    "    fig = go.Figure()\n",
    "    for label in selected_labels:\n",
    "        indices = [i for i, l in enumerate(labels) if l == label]\n",
    "        fig.add_trace(go.Scatter3d(\n",
    "            x=pca_results[indices, 0],\n",
    "            y=pca_results[indices, 1],\n",
    "            z=pca_results[indices, 2],\n",
    "            mode='markers',\n",
    "            marker=dict(size=5),\n",
    "            name=label\n",
    "        ))\n",
    "\n",
    "    fig.update_layout(\n",
    "        title=\"3D Visualization of Selected Clusters\",\n",
    "        scene=dict(\n",
    "            xaxis_title='PCA Dimension 1',\n",
    "            yaxis_title='PCA Dimension 2',\n",
    "            zaxis_title='PCA Dimension 3'\n",
    "        ),\n",
    "        legend_title=\"Cluster\",\n",
    "        margin=dict(l=0, r=0, b=0, t=30)\n",
    "    )\n",
    "    with output:\n",
    "        clear_output(wait=True)  # Ensure clearing happens here\n",
    "        fig.show()\n",
    "\n",
    "# Function to clear the plot output\n",
    "def on_clear_button_clicked(b):\n",
    "    with output:\n",
    "        clear_output(wait=True)  # This should effectively clear the plot\n",
    "\n",
    "# Set up the button events\n",
    "update_button.on_click(on_update_button_clicked)\n",
    "clear_button.on_click(on_clear_button_clicked)\n",
    "\n",
    "# Display checkboxes and buttons\n",
    "controls = widgets.VBox([widgets.Label(\"Select Clusters to Display:\")] + list(checkboxes.values()) + [update_button, clear_button])\n",
    "display(controls, output)\n"
   ]
  },
  {
   "cell_type": "code",
   "execution_count": null,
   "metadata": {},
   "outputs": [],
   "source": []
  },
  {
   "cell_type": "code",
   "execution_count": null,
   "metadata": {},
   "outputs": [],
   "source": []
  }
 ],
 "metadata": {
  "kernelspec": {
   "display_name": "Python 3",
   "language": "python",
   "name": "python3"
  },
  "language_info": {
   "codemirror_mode": {
    "name": "ipython",
    "version": 3
   },
   "file_extension": ".py",
   "mimetype": "text/x-python",
   "name": "python",
   "nbconvert_exporter": "python",
   "pygments_lexer": "ipython3",
   "version": "3.9.6"
  }
 },
 "nbformat": 4,
 "nbformat_minor": 2
}
